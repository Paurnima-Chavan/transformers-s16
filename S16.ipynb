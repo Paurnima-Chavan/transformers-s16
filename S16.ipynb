{
  "nbformat": 4,
  "nbformat_minor": 0,
  "metadata": {
    "colab": {
      "provenance": []
    },
    "kernelspec": {
      "name": "python3",
      "display_name": "Python 3"
    },
    "language_info": {
      "name": "python"
    }
  },
  "cells": [
    {
      "cell_type": "code",
      "source": [
        "import os, sys, importlib\n",
        "\n",
        "user = \"Paurnima-Chavan\"\n",
        "repo = \"transformers-s16\"\n",
        "src_dir = \"src\"\n",
        "\n",
        "\n",
        "if os.path.isdir(repo):\n",
        "    !rm -rf {repo}\n",
        "\n",
        "!git clone https://github.com/{user}/{repo}.git\n",
        "\n",
        "\n",
        "path = f\"{repo}/{src_dir}\"\n",
        "if not path in sys.path:\n",
        "    sys.path.insert(1, path)"
      ],
      "metadata": {
        "colab": {
          "base_uri": "https://localhost:8080/"
        },
        "id": "WvDhP0WVYLRb",
        "outputId": "47ffac10-8ed9-456b-d882-a89d24886cc6"
      },
      "execution_count": 1,
      "outputs": [
        {
          "output_type": "stream",
          "name": "stdout",
          "text": [
            "Cloning into 'transformers-s16'...\n",
            "remote: Enumerating objects: 10, done.\u001b[K\n",
            "remote: Counting objects: 100% (10/10), done.\u001b[K\n",
            "remote: Compressing objects: 100% (8/8), done.\u001b[K\n",
            "remote: Total 10 (delta 0), reused 0 (delta 0), pack-reused 0\u001b[K\n",
            "Receiving objects: 100% (10/10), 8.33 KiB | 8.33 MiB/s, done.\n"
          ]
        }
      ]
    },
    {
      "cell_type": "code",
      "execution_count": 2,
      "metadata": {
        "colab": {
          "base_uri": "https://localhost:8080/"
        },
        "id": "gx34wXsP5TfN",
        "outputId": "823b3319-32c4-40c2-a15f-7c4cef6cac63"
      },
      "outputs": [
        {
          "output_type": "stream",
          "name": "stdout",
          "text": [
            "Collecting datasets\n",
            "  Downloading datasets-2.14.5-py3-none-any.whl (519 kB)\n",
            "\u001b[2K     \u001b[90m━━━━━━━━━━━━━━━━━━━━━━━━━━━━━━━━━━━━━━━\u001b[0m \u001b[32m519.6/519.6 kB\u001b[0m \u001b[31m9.3 MB/s\u001b[0m eta \u001b[36m0:00:00\u001b[0m\n",
            "\u001b[?25hRequirement already satisfied: numpy>=1.17 in /usr/local/lib/python3.10/dist-packages (from datasets) (1.23.5)\n",
            "Requirement already satisfied: pyarrow>=8.0.0 in /usr/local/lib/python3.10/dist-packages (from datasets) (9.0.0)\n",
            "Collecting dill<0.3.8,>=0.3.0 (from datasets)\n",
            "  Downloading dill-0.3.7-py3-none-any.whl (115 kB)\n",
            "\u001b[2K     \u001b[90m━━━━━━━━━━━━━━━━━━━━━━━━━━━━━━━━━━━━━━\u001b[0m \u001b[32m115.3/115.3 kB\u001b[0m \u001b[31m11.1 MB/s\u001b[0m eta \u001b[36m0:00:00\u001b[0m\n",
            "\u001b[?25hRequirement already satisfied: pandas in /usr/local/lib/python3.10/dist-packages (from datasets) (1.5.3)\n",
            "Requirement already satisfied: requests>=2.19.0 in /usr/local/lib/python3.10/dist-packages (from datasets) (2.31.0)\n",
            "Requirement already satisfied: tqdm>=4.62.1 in /usr/local/lib/python3.10/dist-packages (from datasets) (4.66.1)\n",
            "Collecting xxhash (from datasets)\n",
            "  Downloading xxhash-3.3.0-cp310-cp310-manylinux_2_17_x86_64.manylinux2014_x86_64.whl (194 kB)\n",
            "\u001b[2K     \u001b[90m━━━━━━━━━━━━━━━━━━━━━━━━━━━━━━━━━━━━━━\u001b[0m \u001b[32m194.1/194.1 kB\u001b[0m \u001b[31m17.3 MB/s\u001b[0m eta \u001b[36m0:00:00\u001b[0m\n",
            "\u001b[?25hCollecting multiprocess (from datasets)\n",
            "  Downloading multiprocess-0.70.15-py310-none-any.whl (134 kB)\n",
            "\u001b[2K     \u001b[90m━━━━━━━━━━━━━━━━━━━━━━━━━━━━━━━━━━━━━━\u001b[0m \u001b[32m134.8/134.8 kB\u001b[0m \u001b[31m13.1 MB/s\u001b[0m eta \u001b[36m0:00:00\u001b[0m\n",
            "\u001b[?25hRequirement already satisfied: fsspec[http]<2023.9.0,>=2023.1.0 in /usr/local/lib/python3.10/dist-packages (from datasets) (2023.6.0)\n",
            "Requirement already satisfied: aiohttp in /usr/local/lib/python3.10/dist-packages (from datasets) (3.8.5)\n",
            "Collecting huggingface-hub<1.0.0,>=0.14.0 (from datasets)\n",
            "  Downloading huggingface_hub-0.16.4-py3-none-any.whl (268 kB)\n",
            "\u001b[2K     \u001b[90m━━━━━━━━━━━━━━━━━━━━━━━━━━━━━━━━━━━━━━\u001b[0m \u001b[32m268.8/268.8 kB\u001b[0m \u001b[31m19.5 MB/s\u001b[0m eta \u001b[36m0:00:00\u001b[0m\n",
            "\u001b[?25hRequirement already satisfied: packaging in /usr/local/lib/python3.10/dist-packages (from datasets) (23.1)\n",
            "Requirement already satisfied: pyyaml>=5.1 in /usr/local/lib/python3.10/dist-packages (from datasets) (6.0.1)\n",
            "Requirement already satisfied: attrs>=17.3.0 in /usr/local/lib/python3.10/dist-packages (from aiohttp->datasets) (23.1.0)\n",
            "Requirement already satisfied: charset-normalizer<4.0,>=2.0 in /usr/local/lib/python3.10/dist-packages (from aiohttp->datasets) (3.2.0)\n",
            "Requirement already satisfied: multidict<7.0,>=4.5 in /usr/local/lib/python3.10/dist-packages (from aiohttp->datasets) (6.0.4)\n",
            "Requirement already satisfied: async-timeout<5.0,>=4.0.0a3 in /usr/local/lib/python3.10/dist-packages (from aiohttp->datasets) (4.0.3)\n",
            "Requirement already satisfied: yarl<2.0,>=1.0 in /usr/local/lib/python3.10/dist-packages (from aiohttp->datasets) (1.9.2)\n",
            "Requirement already satisfied: frozenlist>=1.1.1 in /usr/local/lib/python3.10/dist-packages (from aiohttp->datasets) (1.4.0)\n",
            "Requirement already satisfied: aiosignal>=1.1.2 in /usr/local/lib/python3.10/dist-packages (from aiohttp->datasets) (1.3.1)\n",
            "Requirement already satisfied: filelock in /usr/local/lib/python3.10/dist-packages (from huggingface-hub<1.0.0,>=0.14.0->datasets) (3.12.2)\n",
            "Requirement already satisfied: typing-extensions>=3.7.4.3 in /usr/local/lib/python3.10/dist-packages (from huggingface-hub<1.0.0,>=0.14.0->datasets) (4.5.0)\n",
            "Requirement already satisfied: idna<4,>=2.5 in /usr/local/lib/python3.10/dist-packages (from requests>=2.19.0->datasets) (3.4)\n",
            "Requirement already satisfied: urllib3<3,>=1.21.1 in /usr/local/lib/python3.10/dist-packages (from requests>=2.19.0->datasets) (2.0.4)\n",
            "Requirement already satisfied: certifi>=2017.4.17 in /usr/local/lib/python3.10/dist-packages (from requests>=2.19.0->datasets) (2023.7.22)\n",
            "Requirement already satisfied: python-dateutil>=2.8.1 in /usr/local/lib/python3.10/dist-packages (from pandas->datasets) (2.8.2)\n",
            "Requirement already satisfied: pytz>=2020.1 in /usr/local/lib/python3.10/dist-packages (from pandas->datasets) (2023.3.post1)\n",
            "Requirement already satisfied: six>=1.5 in /usr/local/lib/python3.10/dist-packages (from python-dateutil>=2.8.1->pandas->datasets) (1.16.0)\n",
            "Installing collected packages: xxhash, dill, multiprocess, huggingface-hub, datasets\n",
            "Successfully installed datasets-2.14.5 dill-0.3.7 huggingface-hub-0.16.4 multiprocess-0.70.15 xxhash-3.3.0\n",
            "Collecting tokenizers\n",
            "  Downloading tokenizers-0.14.0-cp310-cp310-manylinux_2_17_x86_64.manylinux2014_x86_64.whl (3.8 MB)\n",
            "\u001b[2K     \u001b[90m━━━━━━━━━━━━━━━━━━━━━━━━━━━━━━━━━━━━━━━━\u001b[0m \u001b[32m3.8/3.8 MB\u001b[0m \u001b[31m53.4 MB/s\u001b[0m eta \u001b[36m0:00:00\u001b[0m\n",
            "\u001b[?25hRequirement already satisfied: huggingface_hub<0.17,>=0.16.4 in /usr/local/lib/python3.10/dist-packages (from tokenizers) (0.16.4)\n",
            "Requirement already satisfied: filelock in /usr/local/lib/python3.10/dist-packages (from huggingface_hub<0.17,>=0.16.4->tokenizers) (3.12.2)\n",
            "Requirement already satisfied: fsspec in /usr/local/lib/python3.10/dist-packages (from huggingface_hub<0.17,>=0.16.4->tokenizers) (2023.6.0)\n",
            "Requirement already satisfied: requests in /usr/local/lib/python3.10/dist-packages (from huggingface_hub<0.17,>=0.16.4->tokenizers) (2.31.0)\n",
            "Requirement already satisfied: tqdm>=4.42.1 in /usr/local/lib/python3.10/dist-packages (from huggingface_hub<0.17,>=0.16.4->tokenizers) (4.66.1)\n",
            "Requirement already satisfied: pyyaml>=5.1 in /usr/local/lib/python3.10/dist-packages (from huggingface_hub<0.17,>=0.16.4->tokenizers) (6.0.1)\n",
            "Requirement already satisfied: typing-extensions>=3.7.4.3 in /usr/local/lib/python3.10/dist-packages (from huggingface_hub<0.17,>=0.16.4->tokenizers) (4.5.0)\n",
            "Requirement already satisfied: packaging>=20.9 in /usr/local/lib/python3.10/dist-packages (from huggingface_hub<0.17,>=0.16.4->tokenizers) (23.1)\n",
            "Requirement already satisfied: charset-normalizer<4,>=2 in /usr/local/lib/python3.10/dist-packages (from requests->huggingface_hub<0.17,>=0.16.4->tokenizers) (3.2.0)\n",
            "Requirement already satisfied: idna<4,>=2.5 in /usr/local/lib/python3.10/dist-packages (from requests->huggingface_hub<0.17,>=0.16.4->tokenizers) (3.4)\n",
            "Requirement already satisfied: urllib3<3,>=1.21.1 in /usr/local/lib/python3.10/dist-packages (from requests->huggingface_hub<0.17,>=0.16.4->tokenizers) (2.0.4)\n",
            "Requirement already satisfied: certifi>=2017.4.17 in /usr/local/lib/python3.10/dist-packages (from requests->huggingface_hub<0.17,>=0.16.4->tokenizers) (2023.7.22)\n",
            "Installing collected packages: tokenizers\n",
            "Successfully installed tokenizers-0.14.0\n",
            "Collecting torchmetrics\n",
            "  Downloading torchmetrics-1.1.1-py3-none-any.whl (763 kB)\n",
            "\u001b[2K     \u001b[90m━━━━━━━━━━━━━━━━━━━━━━━━━━━━━━━━━━━━━━\u001b[0m \u001b[32m763.4/763.4 kB\u001b[0m \u001b[31m16.8 MB/s\u001b[0m eta \u001b[36m0:00:00\u001b[0m\n",
            "\u001b[?25hRequirement already satisfied: numpy>1.20.0 in /usr/local/lib/python3.10/dist-packages (from torchmetrics) (1.23.5)\n",
            "Requirement already satisfied: torch>=1.8.1 in /usr/local/lib/python3.10/dist-packages (from torchmetrics) (2.0.1+cu118)\n",
            "Collecting lightning-utilities>=0.8.0 (from torchmetrics)\n",
            "  Downloading lightning_utilities-0.9.0-py3-none-any.whl (23 kB)\n",
            "Requirement already satisfied: packaging>=17.1 in /usr/local/lib/python3.10/dist-packages (from lightning-utilities>=0.8.0->torchmetrics) (23.1)\n",
            "Requirement already satisfied: typing-extensions in /usr/local/lib/python3.10/dist-packages (from lightning-utilities>=0.8.0->torchmetrics) (4.5.0)\n",
            "Requirement already satisfied: filelock in /usr/local/lib/python3.10/dist-packages (from torch>=1.8.1->torchmetrics) (3.12.2)\n",
            "Requirement already satisfied: sympy in /usr/local/lib/python3.10/dist-packages (from torch>=1.8.1->torchmetrics) (1.12)\n",
            "Requirement already satisfied: networkx in /usr/local/lib/python3.10/dist-packages (from torch>=1.8.1->torchmetrics) (3.1)\n",
            "Requirement already satisfied: jinja2 in /usr/local/lib/python3.10/dist-packages (from torch>=1.8.1->torchmetrics) (3.1.2)\n",
            "Requirement already satisfied: triton==2.0.0 in /usr/local/lib/python3.10/dist-packages (from torch>=1.8.1->torchmetrics) (2.0.0)\n",
            "Requirement already satisfied: cmake in /usr/local/lib/python3.10/dist-packages (from triton==2.0.0->torch>=1.8.1->torchmetrics) (3.27.4.1)\n",
            "Requirement already satisfied: lit in /usr/local/lib/python3.10/dist-packages (from triton==2.0.0->torch>=1.8.1->torchmetrics) (16.0.6)\n",
            "Requirement already satisfied: MarkupSafe>=2.0 in /usr/local/lib/python3.10/dist-packages (from jinja2->torch>=1.8.1->torchmetrics) (2.1.3)\n",
            "Requirement already satisfied: mpmath>=0.19 in /usr/local/lib/python3.10/dist-packages (from sympy->torch>=1.8.1->torchmetrics) (1.3.0)\n",
            "Installing collected packages: lightning-utilities, torchmetrics\n",
            "Successfully installed lightning-utilities-0.9.0 torchmetrics-1.1.1\n"
          ]
        }
      ],
      "source": [
        "!pip3 install datasets\n",
        "!pip install tokenizers\n",
        "!pip install torchmetrics"
      ]
    },
    {
      "cell_type": "code",
      "source": [
        "from config import get_config, get_weights_file_path\n",
        "from train import train_model"
      ],
      "metadata": {
        "id": "Og9pLFKF5upa"
      },
      "execution_count": null,
      "outputs": []
    },
    {
      "cell_type": "code",
      "source": [
        "import torch\n",
        "torch.cuda.amp.autocast(enabled=True)"
      ],
      "metadata": {
        "colab": {
          "base_uri": "https://localhost:8080/"
        },
        "id": "SLzxZPmC5zTW",
        "outputId": "e1b7a4db-8f59-4e90-881e-f8b9561cb636"
      },
      "execution_count": 3,
      "outputs": [
        {
          "output_type": "execute_result",
          "data": {
            "text/plain": [
              "<torch.cuda.amp.autocast_mode.autocast at 0x783a7dd1f640>"
            ]
          },
          "metadata": {},
          "execution_count": 3
        }
      ]
    },
    {
      "cell_type": "code",
      "source": [
        "from config import get_config\n",
        "\n",
        "cfg = get_config()\n",
        "cfg['batch_size'] = 64\n",
        "cfg['preload'] = None\n",
        "cfg['num_epochs'] = 90\n",
        "\n",
        "from train import train_model\n",
        "train_model(cfg)\n"
      ],
      "metadata": {
        "colab": {
          "base_uri": "https://localhost:8080/",
          "height": 1000
        },
        "id": "rZ9guESuFlY4",
        "outputId": "3bb8c8a4-11f8-428b-a4cf-5040f8cd6f3d"
      },
      "execution_count": 19,
      "outputs": [
        {
          "output_type": "stream",
          "name": "stdout",
          "text": [
            "device : cuda\n",
            "Max length of source sentence: 471\n",
            "Max length of target sentence: 482\n",
            "Total Parameters:  57124690\n"
          ]
        },
        {
          "output_type": "stream",
          "name": "stderr",
          "text": [
            "Processing Epoch 00: 100%|██████████| 829/829 [02:13<00:00,  6.19it/s, loss=4.759,  lr=[0.00019989276139410186]]\n"
          ]
        },
        {
          "output_type": "stream",
          "name": "stdout",
          "text": [
            "--------------------------------------------------------------------------------\n",
            "Source: Will you, won't you, will you, won't you, won't you join the dance?\n",
            "Target: « Oh ! » reprend le Merlan, « C’est pourtant bien plaisant. »\n",
            "Predicted: Vous ne vous pas , vous ne vous pas , vous ne vous pas ?\n",
            "--------------------------------------------------------------------------------\n",
            "Source: \"Twice before I have been for two days, but never quite so long as this.\n",
            "Target: Déjà je me suis trouvé en pareille situation, mais jamais si longtemps que cela.\n",
            "Predicted: -- Il faut que je ne m ' en ai pas , mais je ne pouvait ce que cette femme .\n",
            "--------------------------------------------------------------------------------\n"
          ]
        },
        {
          "output_type": "stream",
          "name": "stderr",
          "text": [
            "Processing Epoch 01: 100%|██████████| 829/829 [02:15<00:00,  6.14it/s, loss=3.674,  lr=[0.0002999061662198391]]\n"
          ]
        },
        {
          "output_type": "stream",
          "name": "stdout",
          "text": [
            "--------------------------------------------------------------------------------\n",
            "Source: The man with the waistcoats and the fatherly air (he was a Bishop, perhaps), smiled often, and then his eyes, between their tremulous lids, assumed a strange brilliance and an expression less undecided than was his wont.\n",
            "Target: L’homme aux gilets et à l’air paterne (c’était un évêque peut-être) souriait souvent, et alors ses yeux, entourés de paupières flottantes, prenaient un brillant singulier et une expression moins indécise que de coutume.\n",
            "Predicted: L ' homme de l ' air et le ciel , il était un évêque , et , en un regard , en bas , en un regard , et l ' air noir , en un air d ' air d ' air d ' air , et l ' air d ' air d ' air d ' air d ' air d ' air d ' air d ' air d ' air d ' air d ' air d ' air d ' air d ' air d ' air d ' un air d ' un air d ' un homme , l ' un homme , l ' un air d ' un homme d ' un air d ' un air d ' un air d ' un air d ' un air d ' air d ' air d ' air d ' air d ' air d ' un air\n",
            "--------------------------------------------------------------------------------\n",
            "Source: After listening one morning to their effusions on this subject, Mr. Bennet coolly observed:\n",
            "Target: Un matin, apres avoir écouté leur conversation sur cet inépuisable sujet, Mr. Bennet observa froidement :\n",
            "Predicted: Après avoir un matin , à leur sujet , Mr . Bennet , Mr . Bennet se fit un air de nouveau :\n",
            "--------------------------------------------------------------------------------\n"
          ]
        },
        {
          "output_type": "stream",
          "name": "stderr",
          "text": [
            "Processing Epoch 02: 100%|██████████| 829/829 [02:14<00:00,  6.17it/s, loss=3.660,  lr=[0.00039991957104557643]]\n"
          ]
        },
        {
          "output_type": "stream",
          "name": "stdout",
          "text": [
            "--------------------------------------------------------------------------------\n",
            "Source: And she fell to caressing the pretty animal, repeating, \"Djali!\n",
            "Target: Et elle se remit à caresser la jolie bête en répétant : « Djali !\n",
            "Predicted: Et elle tomba en haut , la jolie animal , Djali !\n",
            "--------------------------------------------------------------------------------\n",
            "Source: Hush, now, and wipe your eyes.\"\n",
            "Target: Taisez-vous maintenant, et essuyez vos yeux.»\n",
            "Predicted: Chut ! maintenant , vos yeux .\n",
            "--------------------------------------------------------------------------------\n"
          ]
        },
        {
          "output_type": "stream",
          "name": "stderr",
          "text": [
            "Processing Epoch 03: 100%|██████████| 829/829 [02:13<00:00,  6.20it/s, loss=3.198,  lr=[0.0004999329758713137]]\n"
          ]
        },
        {
          "output_type": "stream",
          "name": "stdout",
          "text": [
            "--------------------------------------------------------------------------------\n",
            "Source: Anxious queries arose to my lips.\n",
            "Target: Quelles demandes se pressaient sur mes lèvres?\n",
            "Predicted: , se leva les lèvres .\n",
            "--------------------------------------------------------------------------------\n",
            "Source: An instant later our feet were treading the bottom of the sea.\n",
            "Target: Un instant après, nos pieds foulaient le fond de la mer.\n",
            "Predicted: Un instant plus tard , nos pieds furent au fond de mer .\n",
            "--------------------------------------------------------------------------------\n"
          ]
        },
        {
          "output_type": "stream",
          "name": "stderr",
          "text": [
            "Processing Epoch 04: 100%|██████████| 829/829 [02:14<00:00,  6.16it/s, loss=3.133,  lr=[0.000599946380697051]]\n"
          ]
        },
        {
          "output_type": "stream",
          "name": "stdout",
          "text": [
            "--------------------------------------------------------------------------------\n",
            "Source: Well now, I could not pass over my boyhood without telling you about this, which was the most important thing that happened to me.\n",
            "Target: Vous voyez bien que je ne pouvais parler de mon adolescence sans vous raconter cet événement qui en fut l'incident le plus important.\n",
            "Predicted: Je ne pus passer à moi cette enfance sans vous dire à ce que je vois là qui était important de chose qui arriva .\n",
            "--------------------------------------------------------------------------------\n",
            "Source: This Marechal then, being young, free, rich, ready for any form oftenderness, went by chance into the shop one day, having perhapsobserved its pretty mistress.\n",
            "Target: Donc, ce Maréchal, jeune, libre, riche, prêt à toutes les tendresses,était entré, un jour, par hasard, dans une boutique, ayant remarquépeut-être la jolie marchande.\n",
            "Predicted: Ce Maréchal avait donc , étant jeune , libre , prêt à la forme , pendant des par la maison , pendant un jour , se fit un jour .\n",
            "--------------------------------------------------------------------------------\n"
          ]
        },
        {
          "output_type": "stream",
          "name": "stderr",
          "text": [
            "Processing Epoch 05: 100%|██████████| 829/829 [02:14<00:00,  6.14it/s, loss=2.500,  lr=[0.0006999597855227882]]\n"
          ]
        },
        {
          "output_type": "stream",
          "name": "stdout",
          "text": [
            "--------------------------------------------------------------------------------\n",
            "Source: For an instant it bumped the Nautilus's side, then all sounds ceased.\n",
            "Target: Il heurta un instant les flancs du _Nautilus_, et tout bruit cessa.\n",
            "Predicted: Un instant , de nouveau de heurter de l ' écart , tout de suite ne plus rien ne plus rien .\n",
            "--------------------------------------------------------------------------------\n",
            "Source: He looked at me; then, suddenly taking his eyes away, blushed as I have never seen any one blush: a rush of blood which must have beat hard against his temples . . .\n",
            "Target: Il me regarda, puis, détournant brusquement les yeux, rougit comme je n’ai jamais vu quelqu’un rougir : une montée de sang qui devait lui cogner à grands coups dans les tempes…\n",
            "Predicted: Il me regarda , puis , en prenant ses yeux , en effet , je n ' ai jamais vu , le sang des tempes .\n",
            "--------------------------------------------------------------------------------\n"
          ]
        },
        {
          "output_type": "stream",
          "name": "stderr",
          "text": [
            "Processing Epoch 06: 100%|██████████| 829/829 [02:14<00:00,  6.16it/s, loss=2.650,  lr=[0.0007999731903485255]]\n"
          ]
        },
        {
          "output_type": "stream",
          "name": "stdout",
          "text": [
            "--------------------------------------------------------------------------------\n",
            "Source: 'But shall we be allowed?' said another.\n",
            "Target: – Mais nous le permettra-t-on ? dit une autre.\n",
            "Predicted: – Mais nous recommencerons ? » dit un autre .\n",
            "--------------------------------------------------------------------------------\n",
            "Source: She tried to recall the slightest details of that past day.\n",
            "Target: Elle tâchait de ressaisir les plus imperceptibles détails de cette journée disparue.\n",
            "Predicted: Elle essaya de rappeler le moindre détails de ce jour - là .\n",
            "--------------------------------------------------------------------------------\n"
          ]
        },
        {
          "output_type": "stream",
          "name": "stderr",
          "text": [
            "Processing Epoch 07: 100%|██████████| 829/829 [02:15<00:00,  6.11it/s, loss=2.252,  lr=[0.0008998659517426274]]\n"
          ]
        },
        {
          "output_type": "stream",
          "name": "stdout",
          "text": [
            "--------------------------------------------------------------------------------\n",
            "Source: He resumed his former habits.\n",
            "Target: Il reprit ses anciennes habitudes.\n",
            "Predicted: Il reprit ses anciens habitudes .\n",
            "--------------------------------------------------------------------------------\n",
            "Source: Son Altesse Sérénissime ayant daigné écouter avec bonté les très humbles supplications de la marquise del Dongo, mère du coupable, et de la duchesse Sanseverina, sa tante, lesquelles ont représenté qu’à l’époque du crime leur fils et neveu était fort jeune et d’ailleurs égaré par une folle passion conçue pour la femme du malheureux Giletti, a bien voulu, malgré l’horreur inspirée par un tel meurtre, commuer la peine à laquelle Fabrice del Dongo a été condamné, en celle de douze années de forteresse.\n",
            "Target: \"'His Serene Highness having deigned to turn a considerate ear to the most humble supplications of the Marchesa del Dongo, the culprit's mother, and of the Duchessa Sanseverina, his aunt, which ladies have represented to him that at the date of the crime their son and nephew was extremely young, and in addition led astray by an insensate passion conceived for the wife of the unfortunate Giletti, has been graciously pleased, notwithstanding the horror inspired by such a murder, to commute the penalty to which Fabrizio del Dongo has been sentenced to that of twelve years in a fortress.'\n",
            "Predicted: His Highness , and took the whole of the on the Signora , of the Signora , or fifty francs of the Duchessa , bored her ?\n",
            "--------------------------------------------------------------------------------\n"
          ]
        },
        {
          "output_type": "stream",
          "name": "stderr",
          "text": [
            "Processing Epoch 08: 100%|██████████| 829/829 [02:14<00:00,  6.14it/s, loss=2.114,  lr=[0.0009998793565683646]]\n"
          ]
        },
        {
          "output_type": "stream",
          "name": "stdout",
          "text": [
            "--------------------------------------------------------------------------------\n",
            "Source: My uncle took the piece of meat and the few biscuits which had escaped from the general destruction. He divided them into three equal portions and gave one to each.\n",
            "Target: Mon oncle prit le morceau de viande et les quelques biscuits échappés au naufrage; il fit trois portions égales et les distribua.\n",
            "Predicted: Mon oncle prit la pièce de viande et les biscuits qui s ' étaient échappée de la destruction .\n",
            "--------------------------------------------------------------------------------\n",
            "Source: I had finished: Miss Temple regarded me a few minutes in silence; she then said--\n",
            "Target: J'avais achevé; Mlle Temple me regarda en silence pendant quelques minutes; puis elle me dit:\n",
            "Predicted: Je l ' avais refermée : Mlle Temple m ' a - t - elle ; puis elle me dit :\n",
            "--------------------------------------------------------------------------------\n"
          ]
        },
        {
          "output_type": "stream",
          "name": "stderr",
          "text": [
            "Processing Epoch 09: 100%|██████████| 829/829 [02:14<00:00,  6.15it/s, loss=2.104,  lr=[0.0009001072386058981]]\n"
          ]
        },
        {
          "output_type": "stream",
          "name": "stdout",
          "text": [
            "--------------------------------------------------------------------------------\n",
            "Source: \"May I learn, sir,\" I asked him, \"what caused this accident?\"\n",
            "Target: « Puis-je savoir, monsieur, lui demandai-je, quelle est la cause de cet accident ?\n",
            "Predicted: -- Je le demande , monsieur , lui demandai - je , ce qui l ' échouement ?\n",
            "--------------------------------------------------------------------------------\n",
            "Source: She had at first tried to free herself; then she began to cry quietly, in her turn taking him by the neck to press him against her in a despairing clasp.\n",
            "Target: Elle, d'un premier mouvement, avait essayé de se dégager; puis, elle s'était mise a pleurer tout bas, en le prenant a son tour par le cou, pour le garder contre elle, dans une étreinte désespérée.\n",
            "Predicted: Elle eut d ' abord le premier désir de s ' y alla paisiblement , à crier , dans le cou , sans le prendre le chef .\n",
            "--------------------------------------------------------------------------------\n"
          ]
        },
        {
          "output_type": "stream",
          "name": "stderr",
          "text": [
            "Processing Epoch 10: 100%|██████████| 829/829 [02:14<00:00,  6.15it/s, loss=1.903,  lr=[0.0008002144772117963]]\n"
          ]
        },
        {
          "output_type": "stream",
          "name": "stdout",
          "text": [
            "--------------------------------------------------------------------------------\n",
            "Source: \"I wished to explain this plan to you on the day you received my first invitation; but you did not come.\n",
            "Target: «Je voulais vous exposer ce plan le jour où vous reçûtes ma première invitation; mais vous n'êtes pas venu.\n",
            "Predicted: -- Je désirais vous expliquer cette idée , vous reçu le premier invitation ; mais vous n ' avez pas fait .\n",
            "--------------------------------------------------------------------------------\n",
            "Source: Our feet were on sand and dry mud; our one thought was for the bottle of widow Delouche's lemonade being kept cool in the pool at Deep Waters, a pool hollowed out in the very bank of the Cher.\n",
            "Target: Les pieds dans le sable et la vase desséchée, nous ne pensions qu’à la bouteille de limonade de la veuve Delouche, qui fraîchissait dans la fontaine de Grand’Fons, une fontaine creusée dans la rive même du Cher.\n",
            "Predicted: Nos pieds faisaient sur le sable fin et sur le bout de la Cité , a la Cité , a la la paix de la paix .\n",
            "--------------------------------------------------------------------------------\n"
          ]
        },
        {
          "output_type": "stream",
          "name": "stderr",
          "text": [
            "Processing Epoch 11: 100%|██████████| 829/829 [02:14<00:00,  6.18it/s, loss=1.836,  lr=[0.0007002010723860591]]\n"
          ]
        },
        {
          "output_type": "stream",
          "name": "stdout",
          "text": [
            "--------------------------------------------------------------------------------\n",
            "Source: The two neighbours seemed to be getting on well together, one turning round to chat with the other.\n",
            "Target: Et les deux voisines semblaient tres d'accord, l'une se retournait, causait avec l'autre.\n",
            "Predicted: Les deux voisins semblait se guérir , se tournant vers deux autres , se tournant a fini par cette autre .\n",
            "--------------------------------------------------------------------------------\n",
            "Source: Eliza and I went to look at her: Georgiana, who had burst out into loud weeping, said she dared not go.\n",
            "Target: Éliza et moi nous allâmes pour la voir. Georgiana, en apprenant cette nouvelle, se mit à sangloter tout haut, et dit qu'elle n'osait pas venir avec nous.\n",
            "Predicted: Elizabeth et certainement , dit Darcy : certainement Georgiana , mais non mortellement de haut elle .\n",
            "--------------------------------------------------------------------------------\n"
          ]
        },
        {
          "output_type": "stream",
          "name": "stderr",
          "text": [
            "Processing Epoch 12: 100%|██████████| 829/829 [02:17<00:00,  6.04it/s, loss=1.773,  lr=[0.0006001876675603218]]\n"
          ]
        },
        {
          "output_type": "stream",
          "name": "stdout",
          "text": [
            "--------------------------------------------------------------------------------\n",
            "Source: \"The Belvoir!\n",
            "Target: -- Les Belvoir?\n",
            "Predicted: -- Les !\n",
            "--------------------------------------------------------------------------------\n",
            "Source: Felton, let me die!\"\n",
            "Target: Felton, laisse-moi mourir!\n",
            "Predicted: Felton , que je mourrai !»\n",
            "--------------------------------------------------------------------------------\n"
          ]
        },
        {
          "output_type": "stream",
          "name": "stderr",
          "text": [
            "Processing Epoch 13: 100%|██████████| 829/829 [02:16<00:00,  6.09it/s, loss=1.665,  lr=[0.0005001742627345845]]\n"
          ]
        },
        {
          "output_type": "stream",
          "name": "stdout",
          "text": [
            "--------------------------------------------------------------------------------\n",
            "Source: Chapter 20\n",
            "Target: 20\n",
            "Predicted: XX\n",
            "--------------------------------------------------------------------------------\n",
            "Source: Her great, her sole ambition was to have her marriage recognised.\n",
            "Target: Sa grande, son unique ambition, était de faire reconnaître son mariage.\n",
            "Predicted: Son grand , sa seule ambition dut lui répéter ce mariage .\n",
            "--------------------------------------------------------------------------------\n"
          ]
        },
        {
          "output_type": "stream",
          "name": "stderr",
          "text": [
            "Processing Epoch 14: 100%|██████████| 829/829 [02:16<00:00,  6.10it/s, loss=1.589,  lr=[0.00040016085790884714]]\n"
          ]
        },
        {
          "output_type": "stream",
          "name": "stdout",
          "text": [
            "--------------------------------------------------------------------------------\n",
            "Source: \"The Belvoir!\n",
            "Target: -- Les Belvoir?\n",
            "Predicted: -- Les !\n",
            "--------------------------------------------------------------------------------\n",
            "Source: \"There,\" exclaimed Pencroft, \"our iron-clads can come here after all!\n",
            "Target: «Allons, fit Pencroff, nos vaisseaux peuvent venir ici!\n",
            "Predicted: « Ouf ! s ' écria Pencroff , notre fer y sera venu après tout !\n",
            "--------------------------------------------------------------------------------\n"
          ]
        },
        {
          "output_type": "stream",
          "name": "stderr",
          "text": [
            "Processing Epoch 15: 100%|██████████| 829/829 [02:16<00:00,  6.08it/s, loss=1.574,  lr=[0.00030026809651474543]]\n"
          ]
        },
        {
          "output_type": "stream",
          "name": "stdout",
          "text": [
            "--------------------------------------------------------------------------------\n",
            "Source: D’Artagnan had just passed the Rue Cassette, and already perceived the door of his friend’s house, shaded by a mass of sycamores and clematis which formed a vast arch opposite the front of it, when he perceived something like a shadow issuing from the Rue Servandoni.\n",
            "Target: D'Artagnan venait de dépasser la rue Cassette et reconnaissait déjà la porte de la maison de son ami, enfouie sous un massif de sycomores et de clématites qui formaient un vaste bourrelet au- dessus d'elle lorsqu'il aperçut quelque chose comme une ombre qui sortait de la rue Servandoni.\n",
            "Predicted: D ' Artagnan se passa de la rue , et déjà il s ' aperçut sa porte , , un peu de signal .»\n",
            "--------------------------------------------------------------------------------\n",
            "Source: When our friends left I at once followed them in the hopes of marking down their invisible attendant.\n",
            "Target: Quand nos amis sont partis, j’ai voulu les suivre aussitôt dans l’espoir de déceler leur surveillant invisible.\n",
            "Predicted: Quand nos amis quitta d ' une fois , les suivre entre les sens qui l ' esprit à l ' écuyer .\n",
            "--------------------------------------------------------------------------------\n"
          ]
        },
        {
          "output_type": "stream",
          "name": "stderr",
          "text": [
            "Processing Epoch 16: 100%|██████████| 829/829 [02:16<00:00,  6.09it/s, loss=1.516,  lr=[0.00020025469168900812]]\n"
          ]
        },
        {
          "output_type": "stream",
          "name": "stdout",
          "text": [
            "--------------------------------------------------------------------------------\n",
            "Source: Planchet called his master’s attention to a gentleman who had just arrived with his lackey, and only preceded them by about fifty paces.\n",
            "Target: Planchet fit remarquer à son maître un gentilhomme qui arrivait avec son valet et qui ne les précédait que d'une cinquantaine de pas.\n",
            "Predicted: Planchet appela le attention de son maître , qui venait d ' arriver à son laquais , et ne les a que par cinquante pas près de suite .\n",
            "--------------------------------------------------------------------------------\n",
            "Source: Everything in the apartment gave evidence of a violent and desperate struggle.\n",
            "Target: La petite lueur suave brillait toujours dans le calme de la nuit.\n",
            "Predicted: Tout dans l ’ appartement qui donnait une violente et un violent .\n",
            "--------------------------------------------------------------------------------\n"
          ]
        },
        {
          "output_type": "stream",
          "name": "stderr",
          "text": [
            "Processing Epoch 17: 100%|██████████| 829/829 [02:15<00:00,  6.12it/s, loss=1.538,  lr=[0.0001003619302949062]]\n"
          ]
        },
        {
          "output_type": "stream",
          "name": "stdout",
          "text": [
            "--------------------------------------------------------------------------------\n",
            "Source: Shall I have a cab called?\"\n",
            "Target: Voulez-vous que je commande un fiacre ?\n",
            "Predicted: Voulez - vous un fiacre ?\n",
            "--------------------------------------------------------------------------------\n",
            "Source: S’il hésite donnez-lui cinq francs d’avance de votre argent mais soyez tranquille, nous reprendrons la pièce blanche après le déjeuner.\n",
            "Target: If he hesitates, put down five francs of your money in advance; but don't be frightened, we'll take the dollar back from him after we've eaten.\"\n",
            "Predicted: If he had passed over the people of money , but the of your money , we come and the .\"\n",
            "--------------------------------------------------------------------------------\n"
          ]
        },
        {
          "output_type": "stream",
          "name": "stderr",
          "text": [
            "Processing Epoch 18: 100%|██████████| 829/829 [02:15<00:00,  6.11it/s, loss=1.489,  lr=[9.875454438841328e-05]]\n"
          ]
        },
        {
          "output_type": "stream",
          "name": "stdout",
          "text": [
            "--------------------------------------------------------------------------------\n",
            "Source: \"And you,\" I interrupted, \"cannot at all imagine the craving I have for fraternal and sisterly love.\n",
            "Target: -- Et vous, m'écriai-je, vous ne pouvez pas vous imaginer avec quelle ardeur j'aspire vers un amour fraternel.\n",
            "Predicted: -- Et vous , interrompis - je , tout le monde pour la fraternité et j ' ai besoin d ' amour .\n",
            "--------------------------------------------------------------------------------\n",
            "Source: He discovered that the fifth compartment had been invaded by the sea, and the speed of this invasion proved that the leak was considerable.\n",
            "Target: Il reconnut que le cinquième compartiment avait été envahi par la mer, et la rapidité de l'envahissement prouvait que la voie d'eau était considérable.\n",
            "Predicted: Il découvrit que le cinquième compartiment avait été envahie par la mer , et la vitesse de ce côté , c ’ était une étrange créature .\n",
            "--------------------------------------------------------------------------------\n"
          ]
        },
        {
          "output_type": "stream",
          "name": "stderr",
          "text": [
            "Processing Epoch 19: 100%|██████████| 829/829 [02:14<00:00,  6.14it/s, loss=1.475,  lr=[9.750456533029537e-05]]\n"
          ]
        },
        {
          "output_type": "stream",
          "name": "stdout",
          "text": [
            "--------------------------------------------------------------------------------\n",
            "Source: Without replying, Catherine set herself to arrange the bed-clothes and tuck them in.\n",
            "Target: Sans répondre, Catherine s'était mise a tirer la couverture et a la border.\n",
            "Predicted: Sans répondre , Catherine , Catherine se mit a le lit , les a les !\n",
            "--------------------------------------------------------------------------------\n",
            "Source: His cassock burst open at the same time.\n",
            "Target: Du même coup la soutane s’éventra.\n",
            "Predicted: Sa soutane s ’ à la soutane .\n",
            "--------------------------------------------------------------------------------\n"
          ]
        },
        {
          "output_type": "stream",
          "name": "stderr",
          "text": [
            "Processing Epoch 20: 100%|██████████| 829/829 [02:15<00:00,  6.10it/s, loss=1.499,  lr=[9.625609408768786e-05]]\n"
          ]
        },
        {
          "output_type": "stream",
          "name": "stdout",
          "text": [
            "--------------------------------------------------------------------------------\n",
            "Source: Then he wrote to his mother begging her to come, and they had many long consultations together on the subject of Emma.\n",
            "Target: Alors il écrivit à sa mère pour la prier de venir, et ils eurent ensemble de longues conférences au sujet d’Emma.\n",
            "Predicted: Alors il écrivit à sa mère la priant de lui venir , et ils avaient bien toutes ses longues à Emma .\n",
            "--------------------------------------------------------------------------------\n",
            "Source: As they passed to the lamp cabin to give up their lamps, Levaque began to abuse the lamp-man, whom he accused of not properly cleaning his lamp.\n",
            "Target: Comme ils passaient a la lampisterie rendre leurs lampes, Levaque s'empoigna avec le lampiste, qu'il accusait de mal nettoyer la sienne.\n",
            "Predicted: Comme ils passèrent la lampe à baisser les lampes , les lampes tournoyaient à abuser , qu ’ il ne se soit pas mal de son tour .\n",
            "--------------------------------------------------------------------------------\n"
          ]
        },
        {
          "output_type": "stream",
          "name": "stderr",
          "text": [
            "Processing Epoch 21: 100%|██████████| 829/829 [02:15<00:00,  6.12it/s, loss=1.475,  lr=[9.500611502956994e-05]]\n"
          ]
        },
        {
          "output_type": "stream",
          "name": "stdout",
          "text": [
            "--------------------------------------------------------------------------------\n",
            "Source: He still waited; he held a key in his hand: approaching one of the small, black doors, he put it in the lock; he paused, and addressed me again.\n",
            "Target: S'approchant de l'une des petites portes, il y plaça la clef; puis, s'arrêtant, il s'adressa de nouveau à moi, et me dit:\n",
            "Predicted: Il attendait encore , il me tendit une clef à la main : on l ’ jeta un petit », en s ’ arrêta , il la parole .\n",
            "--------------------------------------------------------------------------------\n",
            "Source: You are going to lodge with the Marquis, one of the greatest noblemen in France.\n",
            "Target: Vous allez loger chez le marquis, l’un des plus grands seigneurs de France.\n",
            "Predicted: Tu vas y conduire avec le marquis , un des grands seigneurs russes à France .\n",
            "--------------------------------------------------------------------------------\n"
          ]
        },
        {
          "output_type": "stream",
          "name": "stderr",
          "text": [
            "Processing Epoch 22: 100%|██████████| 829/829 [02:21<00:00,  5.85it/s, loss=1.466,  lr=[9.375764378696242e-05]]\n"
          ]
        },
        {
          "output_type": "stream",
          "name": "stdout",
          "text": [
            "--------------------------------------------------------------------------------\n",
            "Source: Le maréchal s’arrêta, et regarda de nouveau avec sa lorgnette.\n",
            "Target: The Marshal halted and looked again through his glasses.\n",
            "Predicted: The serjeant was arrested , and looked at his new light with his .\n",
            "--------------------------------------------------------------------------------\n",
            "Source: After leaving behind him the civic Tournelle* and the criminal tower, and skirted the great walls of the king's garden, on that unpaved strand where the mud reached to his ankles, he reached the western point of the city, and considered for some time the islet of the Passeur−aux−Vaches, which has disappeared beneath the bronze horse of the Pont Neuf.\n",
            "Target: Après avoir laissé derrière lui la tournelle civile et la tour criminelle, et longé le grand mur des jardins du roi, sur cette grève non pavée où la boue lui venait à la cheville, il arriva à la pointe occidentale de la Cité, et considéra quelque temps l’îlot du Passeur-aux-Vaches, qui a disparu depuis sous le cheval de bronze et le Pont-Neuf.\n",
            "Predicted: Après le sortir de l ’ arrivée du roi , et la tour du passeur , il se tenait lieu de la sienne .\n",
            "--------------------------------------------------------------------------------\n"
          ]
        },
        {
          "output_type": "stream",
          "name": "stderr",
          "text": [
            "Processing Epoch 23: 100%|██████████| 829/829 [02:23<00:00,  5.77it/s, loss=1.462,  lr=[9.250766472884452e-05]]\n"
          ]
        },
        {
          "output_type": "stream",
          "name": "stdout",
          "text": [
            "--------------------------------------------------------------------------------\n",
            "Source: The rooms were lofty and handsome, and their furniture suitable to the fortune of its proprietor; but Elizabeth saw, with admiration of his taste, that it was neither gaudy nor uselessly fine; with less of splendour, and more real elegance, than the furniture of Rosings.\n",
            "Target: Les pieces étaient de vastes proportions et le mobilier en rapport avec la fortune du propriétaire. Elizabeth nota avec une certaine admiration qu’il n’y avait rien de voyant ou d’inutilement somptueux comme a Rosings.\n",
            "Predicted: L ’ appartement était plein de mademoiselle , et les meubles de son propriétaire , mais Mr . Wickham ont vu , ni d ’ élégance , n ’ élégance .\n",
            "--------------------------------------------------------------------------------\n",
            "Source: This idea made her pant with desire, and she soon found herself in the middle of the field, walking with rapid steps, without looking behind her.\n",
            "Target: Cette idée la fit haleter de convoitise, et elle se trouva bientôt au milieu de la prairie, où elle marchait à pas rapides, sans regarder derrière elle.\n",
            "Predicted: Cette idée redoublait ses sueurs , et elle se trouva bientôt au milieu du champ de bataille .\n",
            "--------------------------------------------------------------------------------\n"
          ]
        },
        {
          "output_type": "stream",
          "name": "stderr",
          "text": [
            "Processing Epoch 24: 100%|██████████| 829/829 [02:22<00:00,  5.82it/s, loss=1.451,  lr=[9.12576856707266e-05]]\n"
          ]
        },
        {
          "output_type": "stream",
          "name": "stdout",
          "text": [
            "--------------------------------------------------------------------------------\n",
            "Source: \"In the first place, captain, you are a stronger man than my father; andin the next, all free livers talk as you do till the day when--when theycome back no more to say to the cautious doctor: 'You were right.\n",
            "Target: --D'abord, vous, capitaine, vous êtes plus fort que mon père; et puistous les viveurs parlent comme vous jusqu'au jour où … et ils nereviennent pas le lendemain dire au médecin prudent: «Vous aviez raison,docteur.»\n",
            "Predicted: -- Au premier endroit , capitaine , vous êtes plus fort que mon père , quand le lendemain , en parlons plus , en tout le monde .\n",
            "--------------------------------------------------------------------------------\n",
            "Source: Yet he tried to stir himself to a feeling of devotion, to throw himself into the hope of a future life in which he should see her again.\n",
            "Target: Il tâchait cependant de s’exciter à la dévotion, de s’élancer dans l’espoir d’une vie future où il la reverrait.\n",
            "Predicted: Il essaya pourtant de s ' engager à un sentiment de dévouement , pour se jeter dans l ' avenir .\n",
            "--------------------------------------------------------------------------------\n"
          ]
        },
        {
          "output_type": "stream",
          "name": "stderr",
          "text": [
            "Processing Epoch 25: 100%|██████████| 829/829 [02:22<00:00,  5.82it/s, loss=1.457,  lr=[9.00077066126087e-05]]\n"
          ]
        },
        {
          "output_type": "stream",
          "name": "stdout",
          "text": [
            "--------------------------------------------------------------------------------\n",
            "Source: Till this moment, I had been so intent on watching them, their appearance and conversation had excited in me so keen an interest, I had half-forgotten my own wretched position: now it recurred to me. More desolate, more desperate than ever, it seemed from contrast. And how impossible did it appear to touch the inmates of this house with concern on my behalf; to make them believe in the truth of my wants and woes--to induce them to vouchsafe a rest for my wanderings!\n",
            "Target: Jusque- là j'avais été si occupée à les regarder, leur tenue et leur conversation avaient si vivement excité mon intérêt, que j'avais presque oublié ma triste position; mais maintenant, je me la rappelais, et, par le contraste, elle me parut encore plus douloureuse et plus désespérée; et combien il me semblait difficile d'attendrir sur mon sort les habitants de cette maison, de leur persuader même que mes besoins et mes souffrances n'étaient pas un mensonge, d'obtenir d'elles un abri!\n",
            "Predicted: À ce moment , je m ' avais été si folle , les avec ma conversation ; mes triomphes , il m ' avait été si fière .\n",
            "--------------------------------------------------------------------------------\n",
            "Source: \"Her lover.\"\n",
            "Target: -- Son amant.\n",
            "Predicted: -- Son amant .\n",
            "--------------------------------------------------------------------------------\n"
          ]
        },
        {
          "output_type": "stream",
          "name": "stderr",
          "text": [
            "Processing Epoch 26: 100%|██████████| 829/829 [02:21<00:00,  5.84it/s, loss=1.488,  lr=[8.875772755449078e-05]]\n"
          ]
        },
        {
          "output_type": "stream",
          "name": "stdout",
          "text": [
            "--------------------------------------------------------------------------------\n",
            "Source: Ardent joy sparkled in her eyes, when Laurent raised his broad hand above the head of Therese.\n",
            "Target: Une joie ardente luisait dans ses yeux, lorsque Laurent levait sa large main sur la tête de Thérèse.\n",
            "Predicted: La joie étincelait d ' un œil lorsque Laurent leva son large face large et que Thérèse la tête de Thérèse .\n",
            "--------------------------------------------------------------------------------\n",
            "Source: At this moment a sudden noise of footsteps was heard upon the stairs; the door was thrown violently open, and the unfortunate mercer rushed into the chamber in which the council was held.\n",
            "Target: En ce moment, un bruit précipité de pas retentit dans l'escalier, la porte s'ouvrit avec fracas, et le malheureux mercier s'élança dans la chambre où se tenait le conseil.\n",
            "Predicted: À ce moment un bruit brusque qui venait de pas dans l ' escalier , la porte s ' ouvrit violemment , en attendant le mercier et s ' .\n",
            "--------------------------------------------------------------------------------\n"
          ]
        },
        {
          "output_type": "stream",
          "name": "stderr",
          "text": [
            "Processing Epoch 27: 100%|██████████| 829/829 [02:21<00:00,  5.87it/s, loss=1.474,  lr=[8.750925631188326e-05]]\n"
          ]
        },
        {
          "output_type": "stream",
          "name": "stdout",
          "text": [
            "--------------------------------------------------------------------------------\n",
            "Source: Then, growing calmer, she at length discovered that she had, no doubt, calumniated him.\n",
            "Target: Puis, se calmant, elle finit par découvrir qu’elle l’avait sans doute calomnié.\n",
            "Predicted: Puis , se tourna plus calme , elle enfin trouva qu ’ elle , sans doute , l ’ .\n",
            "--------------------------------------------------------------------------------\n",
            "Source: This wood, besides, had become curious to look at, with a yellowish pallor of marble, fringed with whitish thread lace, flaky vegetations which seemed to drape it with an embroidery of silk and pearls.\n",
            "Target: Ces bois, du reste, devenaient amusants a voir, d'une pâleur jaunie de marbre, frangés de guipures blanchâtres, de végétations floconneuses qui semblaient les draper d'une passementerie de soie et de perles.\n",
            "Predicted: Cet bois , les entoure , restait curieux d ' un air distrait et n ' était pas a été aussi absolu , qu ' il .\n",
            "--------------------------------------------------------------------------------\n"
          ]
        },
        {
          "output_type": "stream",
          "name": "stderr",
          "text": [
            "Processing Epoch 28: 100%|██████████| 829/829 [02:19<00:00,  5.94it/s, loss=1.468,  lr=[8.625927725376536e-05]]\n"
          ]
        },
        {
          "output_type": "stream",
          "name": "stdout",
          "text": [
            "--------------------------------------------------------------------------------\n",
            "Source: I conveyed also a great lump of beeswax into the boat, which weighed about half a hundred-weight, with a parcel of twine or thread, a hatchet, a saw, and a hammer, all of which were of great use to us afterwards, especially the wax, to make candles.\n",
            "Target: J'en transportai les bouteilles dans la chaloupe tandis que le Maure était sur le rivage, comme si elles eussent été mises là auparavant pour notre maître.\n",
            "Predicted: J ’ irai aussi une grande masse de grains , qui pesait sur un demi - six cents , et un paquet de poids , en bas .\n",
            "--------------------------------------------------------------------------------\n",
            "Source: Everything disappeared: the flood rolled on to Montsou along the turns of the road, between the low houses streaked with bright colours.\n",
            "Target: Tout disparut, le flot roulait sur Montsou, le long des lacets de la route, entre les maisons basses, bariolées de couleurs vives.\n",
            "Predicted: Tout y passa : le flot s ' élança a Montsou le de la route , entre les maisons isolées avec les maisons .\n",
            "--------------------------------------------------------------------------------\n"
          ]
        },
        {
          "output_type": "stream",
          "name": "stderr",
          "text": [
            "Processing Epoch 29: 100%|██████████| 829/829 [02:19<00:00,  5.92it/s, loss=1.458,  lr=[8.500929819564744e-05]]\n"
          ]
        },
        {
          "output_type": "stream",
          "name": "stdout",
          "text": [
            "--------------------------------------------------------------------------------\n",
            "Source: \"The three of spades.\"\n",
            "Target: -- Le trois de pique.\n",
            "Predicted: -- Les trois de cette couleur .\n",
            "--------------------------------------------------------------------------------\n",
            "Source: His tales took on the form of an epic poem, and I felt I was hearing some Canadian Homer reciting his Iliad of the High Arctic regions.\n",
            "Target: Son récit prenait une forme épique, et je croyais écouter quelque Homère canadien, chantant l'_Iliade_ des régions hyperboréennes.\n",
            "Predicted: Cela pris la forme d ’ un poème de la Madeleine , et je croyais bien , car je dirai l ’ Iliade au milieu des mailles du port !\n",
            "--------------------------------------------------------------------------------\n"
          ]
        },
        {
          "output_type": "stream",
          "name": "stderr",
          "text": [
            "Processing Epoch 30: 100%|██████████| 829/829 [02:20<00:00,  5.88it/s, loss=1.450,  lr=[8.375931913752954e-05]]\n"
          ]
        },
        {
          "output_type": "stream",
          "name": "stdout",
          "text": [
            "--------------------------------------------------------------------------------\n",
            "Source: \"I can see that you have the stuff in you.\n",
            "Target: Je vois que vous êtes de bonne étoffe.\n",
            "Predicted: Je vois que vous avez le romanesques que vous .\n",
            "--------------------------------------------------------------------------------\n",
            "Source: \"To the chase, Herbert,\" said the sailor.\n",
            "Target: «En chasse, Harbert, dit le marin.\n",
            "Predicted: -- Pour la chasse , Harbert , dit le marin .\n",
            "--------------------------------------------------------------------------------\n"
          ]
        },
        {
          "output_type": "stream",
          "name": "stderr",
          "text": [
            "Processing Epoch 31: 100%|██████████| 829/829 [02:20<00:00,  5.91it/s, loss=1.458,  lr=[8.250934007941162e-05]]\n"
          ]
        },
        {
          "output_type": "stream",
          "name": "stdout",
          "text": [
            "--------------------------------------------------------------------------------\n",
            "Source: She shut herself up in that way for fear some lady visitor, as poor as herself and as proud, might surprise her at the job.\n",
            "Target: Elle s’enfermait ainsi de crainte qu’une dame de ses amies, aussi pauvre qu’elle mais aussi fière, vînt la surprendre.\n",
            "Predicted: Elle s ’ enferma dans son nouveau une dame , comme la pauvre dame , et comme se fier , pour la bonne surprise .\n",
            "--------------------------------------------------------------------------------\n",
            "Source: A famous abbey stood here once, and within what is left of its sanctified walls they brew bitter ale nowadays.\n",
            "Target: Jadis, s’y élevait une célebre abbaye, mais ce qui reste de ses murs consacrés abrite aujourd’hui une brasserie.\n",
            "Predicted: Une antique abbaye se montra une fois , et dans quel est resté des murs qu ' ils me de bière .\n",
            "--------------------------------------------------------------------------------\n"
          ]
        },
        {
          "output_type": "stream",
          "name": "stderr",
          "text": [
            "Processing Epoch 32: 100%|██████████| 829/829 [02:20<00:00,  5.91it/s, loss=1.454,  lr=[8.12608688368041e-05]]\n"
          ]
        },
        {
          "output_type": "stream",
          "name": "stdout",
          "text": [
            "--------------------------------------------------------------------------------\n",
            "Source: \"You're mighty close about this affair, Mr. Holmes.\n",
            "Target: – Vous êtes diablement bouche cousue sur cette affaire, monsieur Holmes.\n",
            "Predicted: « Vous êtes à forte près de cette affaire , monsieur Holmes .\n",
            "--------------------------------------------------------------------------------\n",
            "Source: Besides, these meetings had gradually ceased to disturb either him who was simply taking care not to stumble, or the girls whom he allowed to finish their affairs, going away with discreet little steps like a worthy man who was at peace with the ways of nature.\n",
            "Target: D'ailleurs, peu a peu, ces rencontres-la n'avaient plus dérangé personne, ni lui qui veillait simplement a ne pas tomber, ni les filles qu'il laissait achever leur affaire, s'éloignant a petits pas discrets, en brave homme paisible devant les choses de la nature.\n",
            "Predicted: D ' ailleurs , ces rendez - vous n ' avaient plus qu ' à vous déranger , comme les amis , qu ' il se .\n",
            "--------------------------------------------------------------------------------\n"
          ]
        },
        {
          "output_type": "stream",
          "name": "stderr",
          "text": [
            "Processing Epoch 33: 100%|██████████| 829/829 [02:20<00:00,  5.91it/s, loss=1.458,  lr=[8.00108897786862e-05]]\n"
          ]
        },
        {
          "output_type": "stream",
          "name": "stdout",
          "text": [
            "--------------------------------------------------------------------------------\n",
            "Source: Marguerite seemed to be thinking, for she answered nothing.\n",
            "Target: Marguerite paraissait réfléchir, car elle ne répondit pas.\n",
            "Predicted: Marguerite semblait songer à gagner , car elle ne répondit rien .\n",
            "--------------------------------------------------------------------------------\n",
            "Source: Night is advancing.\n",
            "Target: Voici la nuit qui vient.\n",
            "Predicted: Cependant , la nuit s ’ avançait .\n",
            "--------------------------------------------------------------------------------\n"
          ]
        },
        {
          "output_type": "stream",
          "name": "stderr",
          "text": [
            "Processing Epoch 34: 100%|██████████| 829/829 [02:19<00:00,  5.94it/s, loss=1.447,  lr=[7.876091072056828e-05]]\n"
          ]
        },
        {
          "output_type": "stream",
          "name": "stdout",
          "text": [
            "--------------------------------------------------------------------------------\n",
            "Source: \"To turn me out to-morrow?\n",
            "Target: --Pour me chasser demain, n'est-ce pas?\n",
            "Predicted: — A son tour , d ' un demain ?\n",
            "--------------------------------------------------------------------------------\n",
            "Source: The weakness is divine and most useful, it will prevent you from ever doing anything foolish in her fair eyes.\n",
            "Target: Ce ridicule est divin et fort utile, il vous empêchera d’avoir le moindre moment de folie auprès de ses beaux yeux.\n",
            "Predicted: La faiblesse est d ’ abord et vous l ’ toujours , elle vous aura toujours des sottises .\n",
            "--------------------------------------------------------------------------------\n"
          ]
        },
        {
          "output_type": "stream",
          "name": "stderr",
          "text": [
            "Processing Epoch 35: 100%|██████████| 829/829 [02:19<00:00,  5.94it/s, loss=1.432,  lr=[7.751243947796076e-05]]\n"
          ]
        },
        {
          "output_type": "stream",
          "name": "stdout",
          "text": [
            "--------------------------------------------------------------------------------\n",
            "Source: Our travelers took care, however, to gather up the gold, the rubies, and the emeralds.\n",
            "Target: Les voyageurs ne manquèrent pas de ramasser l'or, les rubis, et les émeraudes.\n",
            "Predicted: Les voyageurs tinrent bon ; à l ’ or , les belles oeuvres immenses et les gisait inanimé .\n",
            "--------------------------------------------------------------------------------\n",
            "Source: They're my sole remaining ties with dry land.\n",
            "Target: Ce sont les seuls liens qui me rattachent à la terre.\n",
            "Predicted: Ce sont mon seul défaut capital pour me remettre tout cela .\n",
            "--------------------------------------------------------------------------------\n"
          ]
        },
        {
          "output_type": "stream",
          "name": "stderr",
          "text": [
            "Processing Epoch 36: 100%|██████████| 829/829 [02:19<00:00,  5.92it/s, loss=1.465,  lr=[7.626246041984286e-05]]\n"
          ]
        },
        {
          "output_type": "stream",
          "name": "stdout",
          "text": [
            "--------------------------------------------------------------------------------\n",
            "Source: She reflected that the young people might have children, and that her small fortune would not then suffice.\n",
            "Target: Elle réfléchit que le jeune ménage pouvait avoir des enfants et que sa petite fortune ne suffirait plus alors.\n",
            "Predicted: Elle réfléchit que les jeunes gens auraient pu enfants , et que sa fortune ne lui faisait , cela suffira - t .\n",
            "--------------------------------------------------------------------------------\n",
            "Source: \"You shall have my leave to hold your tongue, Axel, but not to talk in that irrational way.\"\n",
            "Target: --Il t'est permis de te taire, Axel, quand tu voudras déraisonner de la sorte.»\n",
            "Predicted: -- Vous aurez à mon intention de me taire , Axel , mais non à causer , mais peu de chose la suite .\n",
            "--------------------------------------------------------------------------------\n"
          ]
        },
        {
          "output_type": "stream",
          "name": "stderr",
          "text": [
            "Processing Epoch 37: 100%|██████████| 829/829 [02:19<00:00,  5.93it/s, loss=1.447,  lr=[7.501248136172494e-05]]\n"
          ]
        },
        {
          "output_type": "stream",
          "name": "stdout",
          "text": [
            "--------------------------------------------------------------------------------\n",
            "Source: The assassins comprehended that if they fled toward the camp without having killed their man, they should be accused by him; therefore their first idea was to join the enemy.\n",
            "Target: Les assassins comprirent que s'ils s'enfuyaient du côté du camp sans avoir tué leur homme, ils seraient accusés par lui; aussi leur première idée fut-elle de passer à l'ennemi.\n",
            "Predicted: assassins are qu ' ils s ' vers le camp , ils seraient ceux qu ' ils par lui .»\n",
            "--------------------------------------------------------------------------------\n",
            "Source: He asked charity of several grave-looking people, who one and all answered him, that if he continued to follow this trade they would have him sent to the house of correction, where he should be taught to get his bread.\n",
            "Target: Il demanda l'aumône à plusieurs graves personnages, qui lui répondirent tous que, s'il continuait à faire ce métier, on l'enfermerait dans une maison de correction pour lui apprendre à vivre.\n",
            "Predicted: Il demanda de charité plusieurs reprises , qui , et , lui répondit que , si on l ' a envoyé de ce métier , on devait aimer le briser .\n",
            "--------------------------------------------------------------------------------\n"
          ]
        },
        {
          "output_type": "stream",
          "name": "stderr",
          "text": [
            "Processing Epoch 38: 100%|██████████| 829/829 [02:19<00:00,  5.92it/s, loss=1.443,  lr=[7.376250230360704e-05]]\n"
          ]
        },
        {
          "output_type": "stream",
          "name": "stdout",
          "text": [
            "--------------------------------------------------------------------------------\n",
            "Source: He demoralised my men, whom I had so well in hand.\n",
            "Target: Il a démoralisé ma troupe qui était si bien en main.\n",
            "Predicted: Il avait des hommes que je l ' avais si j ' avais si bien vu en main .\n",
            "--------------------------------------------------------------------------------\n",
            "Source: But as to entering the channel, Pencroft, contrary to Ayrton's opinion, could not believe that she would dare to attempt it.\n",
            "Target: Mais, quant à entrer dans le canal, Pencroff, contrairement à l'opinion d'Ayrton, ne pouvait pas admettre qu'il osât le tenter.\n",
            "Predicted: Mais dès le canal , Pencroff , au contraire , lui semblait qu ' elle n ' osait pas qu ' elle tenter l ' oserait .\n",
            "--------------------------------------------------------------------------------\n"
          ]
        },
        {
          "output_type": "stream",
          "name": "stderr",
          "text": [
            "Processing Epoch 39: 100%|██████████| 829/829 [02:20<00:00,  5.92it/s, loss=1.437,  lr=[7.25140310609995e-05]]\n"
          ]
        },
        {
          "output_type": "stream",
          "name": "stdout",
          "text": [
            "--------------------------------------------------------------------------------\n",
            "Source: All sorts of floating sounds were dispersed over this half−awakened city.\n",
            "Target: Toutes sortes de rumeurs flottantes se dispersaient sur cette cité à demi réveillée.\n",
            "Predicted: Toutes sortes d ’ allons ?... » se dissipa sur cette ville .\n",
            "--------------------------------------------------------------------------------\n",
            "Source: But where is your nephew Jim, and how did you come to know that you would be needed?\"\n",
            "Target: Mais où est votre neveu Jim et comment avez-vous pu savoir qu'on aurait besoin de vous?\n",
            "Predicted: Mais où est votre neveu Jim , et comment vous êtes - vous venue pour savoir que vous ne lui pas ?\n",
            "--------------------------------------------------------------------------------\n"
          ]
        },
        {
          "output_type": "stream",
          "name": "stderr",
          "text": [
            "Processing Epoch 40: 100%|██████████| 829/829 [02:19<00:00,  5.94it/s, loss=1.435,  lr=[7.12640520028816e-05]]\n"
          ]
        },
        {
          "output_type": "stream",
          "name": "stdout",
          "text": [
            "--------------------------------------------------------------------------------\n",
            "Source: He had just come from the door of the drawing-room to which he had escorted Mademoiselle de La Mole, who pretended that she had hurt her foot when running with her brother.\n",
            "Target: Il venait de reconduire jusqu’à la porte du salon Mlle de La Mole, qui prétendait s’être fait mal au pied en courant avec son frère.\n",
            "Predicted: Il venait de venir par la porte du salon dont il avait été Mlle de La Mole , qui feignait de La Mole , mais elle fit honneur .\n",
            "--------------------------------------------------------------------------------\n",
            "Source: Sometimes Herbert accompanied them, but never Pencroft, who could not bear to look upon the prospect of the island now so utterly devastated.\n",
            "Target: Quelquefois Harbert les accompagnait, jamais Pencroff, qui ne voulait pas voir sous son aspect nouveau l'île si profondément dévastée!\n",
            "Predicted: De Harbert l ' accompagnait , mais Pencroff ne pouvait se faire un regard de l ' île en vue de l ' île si complètement guéri .\n",
            "--------------------------------------------------------------------------------\n"
          ]
        },
        {
          "output_type": "stream",
          "name": "stderr",
          "text": [
            "Processing Epoch 41: 100%|██████████| 829/829 [02:19<00:00,  5.94it/s, loss=1.437,  lr=[7.00140729447637e-05]]\n"
          ]
        },
        {
          "output_type": "stream",
          "name": "stdout",
          "text": [
            "--------------------------------------------------------------------------------\n",
            "Source: For Julien, sleep would have meant happiness.\n",
            "Target: Pour Julien, le sommeil eût été le bonheur.\n",
            "Predicted: Pour Julien , dors bonheur .\n",
            "--------------------------------------------------------------------------------\n",
            "Source: In less than no time only the newcomer on Delage remained unthrown; but the latter, not too keen to stand up to Augustin, pulled himself up with a violent jerk of the hips and forced the white rider to dismount. . .\n",
            "Target: En moins de rien il ne resta debout que le nouveau venu monté sur Delage ; mais celui-ci, peu désireux d’engager la lutte avec Augustin, d’un violent coup de reins en arrière se redressa et fit descendre le cavalier blanc.\n",
            "Predicted: En moins , si je ne le lui qu ’ un nouveau venu , mais il n ’ avait pas de vivre , avec les hommes .\n",
            "--------------------------------------------------------------------------------\n"
          ]
        },
        {
          "output_type": "stream",
          "name": "stderr",
          "text": [
            "Processing Epoch 42: 100%|██████████| 829/829 [02:19<00:00,  5.94it/s, loss=1.443,  lr=[6.87640938866458e-05]]\n"
          ]
        },
        {
          "output_type": "stream",
          "name": "stdout",
          "text": [
            "--------------------------------------------------------------------------------\n",
            "Source: The discussion fell during the rubber, after which Stuart took up its thread.\n",
            "Target: La discussion fut suspendue pendant le robre. Mais bientôt Andrew Stuart la reprenait, disant :\n",
            "Predicted: -- Mais que le caoutchouc chair .\n",
            "--------------------------------------------------------------------------------\n",
            "Source: I stayed in my stateroom.\n",
            "Target: Je demeurai dans ma chambre.\n",
            "Predicted: Je regagnai ma chambre .\n",
            "--------------------------------------------------------------------------------\n"
          ]
        },
        {
          "output_type": "stream",
          "name": "stderr",
          "text": [
            "Processing Epoch 43: 100%|██████████| 829/829 [02:21<00:00,  5.88it/s, loss=1.439,  lr=[6.751562264403828e-05]]\n"
          ]
        },
        {
          "output_type": "stream",
          "name": "stdout",
          "text": [
            "--------------------------------------------------------------------------------\n",
            "Source: Even if we allow him Julien's imagination, a young man brought up among the melancholy truths of Paris would have been aroused at this stage in his romance by the cold touch of irony; the mighty deeds would have vanished with the hope of performing them, to give place to the well-known maxim: 'When a man leaves his mistress, he runs the risk of being betrayed two or three times daily.'\n",
            "Target: Même en lui supposant l’imagination de Julien, un jeune homme élevé au milieu des tristes vérités de la société de Paris eût été réveillé à ce point de son roman par la froide ironie ; les grandes actions auraient disparu avec l’espoir d’y atteindre, pour faire place à la maxime si connue : Quitte-t-on sa maîtresse, on risque, hélas ! d’être trompé deux ou trois fois par jour.\n",
            "Predicted: Et si nous le laissez faire , un jeune homme en suivant la mélancolie de Paris , il aurait été fort grand contre le théâtre de sa vie .\n",
            "--------------------------------------------------------------------------------\n",
            "Source: – Dieu m’en garde ! dit Fabrice.\n",
            "Target: \"God forbid!\" said Fabrizio. \"Gallop!\n",
            "Predicted: \" God has he !\" said Fabrizio .\n",
            "--------------------------------------------------------------------------------\n"
          ]
        },
        {
          "output_type": "stream",
          "name": "stderr",
          "text": [
            "Processing Epoch 44: 100%|██████████| 829/829 [02:19<00:00,  5.92it/s, loss=1.444,  lr=[6.626564358592036e-05]]\n"
          ]
        },
        {
          "output_type": "stream",
          "name": "stdout",
          "text": [
            "--------------------------------------------------------------------------------\n",
            "Source: He strolled up and down outside the door and passed unperceived into the stable-yard.\n",
            "Target: Il se promena devant la porte, et insensiblement, sans qu’il y parût, passa dans la cour de écuries.\n",
            "Predicted: Il se promena en autour de lui , qui entrait dans la cour à l ’ écurie .\n",
            "--------------------------------------------------------------------------------\n",
            "Source: La duchesse le voyait, et c’était son supplice.\n",
            "Target: The Duchessa saw this, and it was her punishment.\n",
            "Predicted: The Duchessa saw the Duchessa was her lover to him .\"\n",
            "--------------------------------------------------------------------------------\n"
          ]
        },
        {
          "output_type": "stream",
          "name": "stderr",
          "text": [
            "Processing Epoch 45: 100%|██████████| 829/829 [02:20<00:00,  5.91it/s, loss=1.440,  lr=[6.501566452780244e-05]]\n"
          ]
        },
        {
          "output_type": "stream",
          "name": "stdout",
          "text": [
            "--------------------------------------------------------------------------------\n",
            "Source: But, in the carriage, the little strength that remained to her was still employed in making her melancholy and wretched.\n",
            "Target: Mais, en voiture, le peu de force qui lui restait était encore employé à la rendre triste et malheureuse.\n",
            "Predicted: Mais , dans la voiture , les petits forces qui lui restait employé à faire défaut de sa mélancolie et misérable misérable mélancolie .\n",
            "--------------------------------------------------------------------------------\n",
            "Source: \"You have only proved by this,\" cried Elizabeth, \"that Mr. Bingley did not do justice to his own disposition. You have shown him off now much more than he did himself.\"\n",
            "Target: – Vous nous prouvez par la, s’écria Elizabeth, que Mr. Bingley s’est calomnié, et vous le faites valoir ainsi bien plus qu’il ne l’a fait lui meme.\n",
            "Predicted: – Vous n ’ avez pas l ’ air de Mr . Bingley , s ’ écria Elizabeth , Mr . Bingley et vous ne l ’ avez pas un triste caractere .\n",
            "--------------------------------------------------------------------------------\n"
          ]
        },
        {
          "output_type": "stream",
          "name": "stderr",
          "text": [
            "Processing Epoch 46: 100%|██████████| 829/829 [02:20<00:00,  5.91it/s, loss=1.438,  lr=[6.376568546968454e-05]]\n"
          ]
        },
        {
          "output_type": "stream",
          "name": "stdout",
          "text": [
            "--------------------------------------------------------------------------------\n",
            "Source: I was passing there.\n",
            "Target: Je passais par là ce soir.\n",
            "Predicted: J ' étais la , moi , j ' y passait .\n",
            "--------------------------------------------------------------------------------\n",
            "Source: Then, when he delicately scratched it with his nail, the terrible burning sensation increased twofold.\n",
            "Target: Alors, il voulut la gratter délicatement, du bout de l'ongle; la terrible cuisson redoubla.\n",
            "Predicted: Puis , quand il se gratta le clou avec son clou haute idée redoublait l ’ heure de s ’ en accrut .\n",
            "--------------------------------------------------------------------------------\n"
          ]
        },
        {
          "output_type": "stream",
          "name": "stderr",
          "text": [
            "Processing Epoch 47: 100%|██████████| 829/829 [02:19<00:00,  5.94it/s, loss=1.439,  lr=[6.251570641156662e-05]]\n"
          ]
        },
        {
          "output_type": "stream",
          "name": "stdout",
          "text": [
            "--------------------------------------------------------------------------------\n",
            "Source: \"Well--well.\n",
            "Target: -- Oui, oui.\n",
            "Predicted: -- Bien … bien !\n",
            "--------------------------------------------------------------------------------\n",
            "Source: \"Fire, then,\" said Athos.\n",
            "Target: -- Alors feu!» dit Athos.\n",
            "Predicted: -- , feu , dit Athos .\n",
            "--------------------------------------------------------------------------------\n"
          ]
        },
        {
          "output_type": "stream",
          "name": "stderr",
          "text": [
            "Processing Epoch 48: 100%|██████████| 829/829 [02:19<00:00,  5.94it/s, loss=1.429,  lr=[6.126723516895912e-05]]\n"
          ]
        },
        {
          "output_type": "stream",
          "name": "stdout",
          "text": [
            "--------------------------------------------------------------------------------\n",
            "Source: The regiment of the Guards was recruited among the first gentlemen of the kingdom; and d’Artagnan, followed by a lackey, and traveling with four magnificent horses, despite the simplicity of his uniform, could not fail to make a sensation.\n",
            "Target: Le régiment des gardes se recrutait parmi les premiers gentilshommes du royaume, et d'Artagnan, suivi d'un laquais et voyageant avec quatre chevaux magnifiques, ne pouvait, malgré la simplicité de son uniforme, manquer de faire sensation.\n",
            "Predicted: Le régiment des gardes était au premier , et d ' Artagnan trouva le royaume des quatre chevaux tout à coup avec ma couverture .\n",
            "--------------------------------------------------------------------------------\n",
            "Source: The Duc d’Orleans visited the posts.\n",
            "Target: Le duc d'Orléans visitait les postes.\n",
            "Predicted: Le duc d ' Orléans visité l ' école .\n",
            "--------------------------------------------------------------------------------\n"
          ]
        },
        {
          "output_type": "stream",
          "name": "stderr",
          "text": [
            "Processing Epoch 49: 100%|██████████| 829/829 [02:19<00:00,  5.93it/s, loss=1.444,  lr=[6.00172561108412e-05]]\n"
          ]
        },
        {
          "output_type": "stream",
          "name": "stdout",
          "text": [
            "--------------------------------------------------------------------------------\n",
            "Source: At present they were cackling in chorus with parakeets of every color, with solemn cockatoos that seemed to be pondering some philosophical problem, while bright red lories passed by like pieces of bunting borne on the breeze, in the midst of kalao parrots raucously on the wing, Papuan lories painted the subtlest shades of azure, and a whole variety of delightful winged creatures, none terribly edible.\n",
            "Target: Pour le moment, ils caquetaient en compagnie de perruches de toutes couleurs, de graves kakatouas, qui semblaient méditer quelque problème philosophique, tandis que des loris d'un rouge éclatant passaient comme un morceau d'étamine emporté par la brise, au milieu de kalaos au vol bruyant, de papouas peints des plus fines nuances de l'azur, et de toute une variété de volatiles charmants, mais généralement peu comestibles.\n",
            "Predicted: Sur les pentes , on aussi , avec lequel la brise de lames , que les ait été remis en face de terre , et en hiver .\n",
            "--------------------------------------------------------------------------------\n",
            "Source: I talked to it, and it prattled to me again, and I took it by the hand and led it along till I came to a paved alley that goes into Bartholomew Close, and I led it in there.\n",
            "Target: Je lui parlai et elle me répondit par son babillage, et je la pris par la main et la menai tout le long du chemin jusqu'à ce que j'arrivai dans une allée pavée qui donne dans le Clos Saint-Barthélemy, et je la menai là-dedans.\n",
            "Predicted: Je lui ai parlé , et je de nouveau , et je la pris par la main , et je jusqu ' au bout d ' une certaine .\n",
            "--------------------------------------------------------------------------------\n"
          ]
        },
        {
          "output_type": "stream",
          "name": "stderr",
          "text": [
            "Processing Epoch 50: 100%|██████████| 829/829 [02:19<00:00,  5.92it/s, loss=1.431,  lr=[5.876727705272328e-05]]\n"
          ]
        },
        {
          "output_type": "stream",
          "name": "stdout",
          "text": [
            "--------------------------------------------------------------------------------\n",
            "Source: This was the president of the jury, Monsieur Derozerays de la Panville.\n",
            "Target: C’était le président du jury: M. Derozerays de la Panville.\n",
            "Predicted: Ce fut le président des jurés , M . Derozerays de the .\n",
            "--------------------------------------------------------------------------------\n",
            "Source: You imagine you are going to roast a Jesuit, whereas my master is your friend, your defender, and you are going to spit the very man who has been destroying your enemies; as to myself, I am your countryman; this gentleman is my master, and so far from being a Jesuit, give me leave to tell you he has very lately killed one of that order, whose spoils he now wears, and which have probably occasioned your mistake.\n",
            "Target: Vous croyez aller mettre un jésuite en broche, et c'est votre défenseur, c'est l'ennemi de vos ennemis que vous allez rôtir. Pour moi, je suis né dans votre pays; monsieur que vous voyez est mon maître, et bien loin d'être jésuite, il vient de tuer un jésuite, il en porte les dépouilles; voilà le sujet de votre méprise.\n",
            "Predicted: Vous allez au bout d ' un jésuite , je vous en prie , mon Dieu est en défendre et vous êtes donc avec lui .\n",
            "--------------------------------------------------------------------------------\n"
          ]
        },
        {
          "output_type": "stream",
          "name": "stderr",
          "text": [
            "Processing Epoch 51: 100%|██████████| 829/829 [02:20<00:00,  5.91it/s, loss=1.420,  lr=[5.751880581011577e-05]]\n"
          ]
        },
        {
          "output_type": "stream",
          "name": "stdout",
          "text": [
            "--------------------------------------------------------------------------------\n",
            "Source: At every step which she took in advance, he took one backwards, and that was all.\n",
            "Target: À chaque pas qu’elle faisait en avant, il en faisait un en arrière, et c’était tout.\n",
            "Predicted: À chaque pas qu ' elle prenait en avant , il prit une derrière et fit entrer , et voilà tout .\n",
            "--------------------------------------------------------------------------------\n",
            "Source: \"But enough of my private sorrow!\" She dashed invisible tears from her eyes.\n",
            "Target: «Mais c'est assez parler de mes chagrins personnels, dit-elle en essuyant sur ses yeux d'invisibles larmes.\n",
            "Predicted: -- Mais assez de ce chagrin particulier ! Elle a pleurer des larmes .\n",
            "--------------------------------------------------------------------------------\n"
          ]
        },
        {
          "output_type": "stream",
          "name": "stderr",
          "text": [
            "Processing Epoch 52: 100%|██████████| 829/829 [02:19<00:00,  5.93it/s, loss=1.430,  lr=[5.6270334567508255e-05]]\n"
          ]
        },
        {
          "output_type": "stream",
          "name": "stdout",
          "text": [
            "--------------------------------------------------------------------------------\n",
            "Source: I say, I don't think much of this inn, do you?\"\n",
            "Target: Dis donc, je n’aime pas beaucoup cette auberge, pas toi ? »\n",
            "Predicted: J ’ ai dit que cette auberge n ’ y pensez - vous pas ?\n",
            "--------------------------------------------------------------------------------\n",
            "Source: \"Do you not know me, Felton?\n",
            "Target: -- Ne m'as-tu pas reconnue, Felton?\n",
            "Predicted: -- Ne m ' en savez - vous pas , Felton ?\n",
            "--------------------------------------------------------------------------------\n"
          ]
        },
        {
          "output_type": "stream",
          "name": "stderr",
          "text": [
            "Processing Epoch 53: 100%|██████████| 829/829 [02:19<00:00,  5.93it/s, loss=1.441,  lr=[5.5020355509390344e-05]]\n"
          ]
        },
        {
          "output_type": "stream",
          "name": "stdout",
          "text": [
            "--------------------------------------------------------------------------------\n",
            "Source: Porn Claude frowned.\n",
            "Target: Dom Claude fronça le sourcil.\n",
            "Predicted: Le compère Claude fronça le sourcil .\n",
            "--------------------------------------------------------------------------------\n",
            "Source: So the Abraham Lincoln wasn't lacking in means of destruction.\n",
            "Target: Donc, l'_Abraham-Lincoln_ ne manquait d'aucun moyen de destruction.\n",
            "Predicted: L ' _Abraham - Lincoln_ n ' avait - il pas la pensée de destruction .\n",
            "--------------------------------------------------------------------------------\n"
          ]
        },
        {
          "output_type": "stream",
          "name": "stderr",
          "text": [
            "Processing Epoch 54: 100%|██████████| 829/829 [02:19<00:00,  5.94it/s, loss=1.426,  lr=[5.377037645127243e-05]]\n"
          ]
        },
        {
          "output_type": "stream",
          "name": "stdout",
          "text": [
            "--------------------------------------------------------------------------------\n",
            "Source: Eh bien ! une fois qu’elle s’avisa de monter chez lui, elle trouva sa chambre tapissée d’une quantité de vues de la ville de Parme qu’il avait fait venir de Milan ou de Parme même, pays qu’il aurait dû tenir en abomination.\n",
            "Target: Well, on one occasion when she took it into her head to go up to his room, she found the walls lined with a number of views of the town of Parma, for which he had sent to Milan or to Parma itself, a place which he ought to be holding in abomination.\n",
            "Predicted: Very well , once she had so on the room an hour in his look him , she found her maid to be the town .\n",
            "--------------------------------------------------------------------------------\n",
            "Source: However that might be, on this evening no fire was lighted on these yet unknown shores, which formed the entrance to the gulf, and the little vessel stood off during the night.\n",
            "Target: Quoi qu'il en soit, ce soir-là aucun feu ne s'alluma sur ces rivages, inconnus encore, qui formaient l'entrée du golfe, et la petite embarcation continua de se tenir au large pendant toute la nuit.\n",
            "Predicted: Cependant ce soir - là , le soir , n ' était pas encore chaud sur ces atterrages de l ' entrée , le petit vaisseau s ' en restait .\n",
            "--------------------------------------------------------------------------------\n"
          ]
        },
        {
          "output_type": "stream",
          "name": "stderr",
          "text": [
            "Processing Epoch 55: 100%|██████████| 829/829 [02:20<00:00,  5.92it/s, loss=1.435,  lr=[5.2520397393154515e-05]]\n"
          ]
        },
        {
          "output_type": "stream",
          "name": "stdout",
          "text": [
            "--------------------------------------------------------------------------------\n",
            "Source: She did in fact think it over for some minutes, and then replied in asteady voice and with calm decision:\n",
            "Target: Elle chercha quelque temps en effet, puis d'une voix sûre et tranquille:\n",
            "Predicted: Elle ne crut qu ’ à quelques minutes , et répondit de voix calme et avec calme :\n",
            "--------------------------------------------------------------------------------\n",
            "Source: \"Pardieu, 'tis that damned bellringer, 'tis Quasimodo,\" said Clopin.\n",
            "Target: – Pardieu, dit Clopin, c’est le damné sonneur, c’est Quasimodo. »\n",
            "Predicted: « Pardieu , c ’ est que ce sonneur , c ’ est Quasimodo ! dit Clopin .\n",
            "--------------------------------------------------------------------------------\n"
          ]
        },
        {
          "output_type": "stream",
          "name": "stderr",
          "text": [
            "Processing Epoch 56: 100%|██████████| 829/829 [02:19<00:00,  5.93it/s, loss=1.431,  lr=[5.127041833503661e-05]]\n"
          ]
        },
        {
          "output_type": "stream",
          "name": "stdout",
          "text": [
            "--------------------------------------------------------------------------------\n",
            "Source: \"Oh, very well.\n",
            "Target: --Ah! très bien.\n",
            "Predicted: -- Beaucoup .\n",
            "--------------------------------------------------------------------------------\n",
            "Source: The truth was that indoors as well as out there was no want of work.\n",
            "Target: La vérité est que, au dedans comme au dehors, le travail ne manqua pas.\n",
            "Predicted: La vérité me fut aussi bien que dans une maison me fut obligé de travail .\n",
            "--------------------------------------------------------------------------------\n"
          ]
        },
        {
          "output_type": "stream",
          "name": "stderr",
          "text": [
            "Processing Epoch 57: 100%|██████████| 829/829 [02:19<00:00,  5.95it/s, loss=1.435,  lr=[5.002194709242909e-05]]\n"
          ]
        },
        {
          "output_type": "stream",
          "name": "stdout",
          "text": [
            "--------------------------------------------------------------------------------\n",
            "Source: She made a gesture that signified she did not know.\n",
            "Target: Elle fit un geste d’ignorance.\n",
            "Predicted: Elle eut un geste qui ne signifiait pas .\n",
            "--------------------------------------------------------------------------------\n",
            "Source: An untrimmed moustache was beginning to droop over his lips.\n",
            "Target: Une moustache inculte commençait à lui traîner sur les lèvres.\n",
            "Predicted: Une moustaches grises qui tremblaient sur ses lèvres .\n",
            "--------------------------------------------------------------------------------\n"
          ]
        },
        {
          "output_type": "stream",
          "name": "stderr",
          "text": [
            "Processing Epoch 58: 100%|██████████| 829/829 [02:19<00:00,  5.95it/s, loss=1.439,  lr=[4.877347584982158e-05]]\n"
          ]
        },
        {
          "output_type": "stream",
          "name": "stdout",
          "text": [
            "--------------------------------------------------------------------------------\n",
            "Source: The orator's wife happened to put her head out of the window at that instant, when, seeing a man who doubted whether the Pope was Antichrist, she discharged upon his head a utensil full of water.\n",
            "Target: La femme de l'orateur ayant mis la tête à la fenêtre, et avisant un homme qui doutait que le pape fût antechrist, lui répandit sur le chef un plein.....\n",
            "Predicted: L ' orateur lui débitait avec une femme qui lui avait une tete aux yeux de l ' eau , en voyant qu ' elle avait Depuis un pape !\n",
            "--------------------------------------------------------------------------------\n",
            "Source: The abbe accompanied Julien and locked him in.\n",
            "Target: L’abbé suivit Julien et l’enferma à clef.\n",
            "Predicted: L ’ abbé l ’ accompagnait Julien et le enfermé à clef .\n",
            "--------------------------------------------------------------------------------\n"
          ]
        },
        {
          "output_type": "stream",
          "name": "stderr",
          "text": [
            "Processing Epoch 59: 100%|██████████| 829/829 [02:20<00:00,  5.91it/s, loss=1.416,  lr=[4.7523496791703667e-05]]\n"
          ]
        },
        {
          "output_type": "stream",
          "name": "stdout",
          "text": [
            "--------------------------------------------------------------------------------\n",
            "Source: My eyes flew to the side where land lay, but I saw only a blurred line covering three-quarters of the horizon from southwest to northwest.\n",
            "Target: Je portai mes yeux du côté de la terre, mais je ne vis qu'une ligne trouble qui fermait les trois quarts de l'horizon du sud-ouest au nord-ouest.\n",
            "Predicted: Mes yeux se reportèrent sur le côté où , se sont probablement achevé d ' quelques - uns sur les trois quarts de l ' heure .\n",
            "--------------------------------------------------------------------------------\n",
            "Source: Il avait trouvé le moyen d’être introduit toutes les nuits auprès de l’enfant malade, ce qui avait amené une autre complication.\n",
            "Target: He had found a way of being admitted every night to the sick child's room, which had led to another complication.\n",
            "Predicted: He had the way of being introduced .\"\n",
            "--------------------------------------------------------------------------------\n"
          ]
        },
        {
          "output_type": "stream",
          "name": "stderr",
          "text": [
            "Processing Epoch 60: 100%|██████████| 829/829 [02:19<00:00,  5.93it/s, loss=1.427,  lr=[4.6273517733585755e-05]]\n"
          ]
        },
        {
          "output_type": "stream",
          "name": "stdout",
          "text": [
            "--------------------------------------------------------------------------------\n",
            "Source: \"Ay, and what does he want?\" asked he, in no very amiable voice.\n",
            "Target: -- Eh bien, qu'est ce qu'il veut? demanda-t-il d'un ton peu aimable\n",
            "Predicted: -- Sans doute ? dit - il ?\n",
            "--------------------------------------------------------------------------------\n",
            "Source: Madame Homais knew something of it, having still upon her chest the marks left by a basin full of soup that a cook had formerly dropped on her pinafore, and her good parents took no end of trouble for her.\n",
            "Target: Aussi ces bons parents prenaient-ils quantité de précautions. Les couteaux jamais n’étaient affilés, ni les appartements cirés.\n",
            "Predicted: Madame Homais savait quelque chose , après avoir encore sur sa poitrine un La deuxième récolte d ’ une soupe pleine de son départ .\n",
            "--------------------------------------------------------------------------------\n"
          ]
        },
        {
          "output_type": "stream",
          "name": "stderr",
          "text": [
            "Processing Epoch 61: 100%|██████████| 829/829 [02:19<00:00,  5.93it/s, loss=1.419,  lr=[4.502353867546784e-05]]\n"
          ]
        },
        {
          "output_type": "stream",
          "name": "stdout",
          "text": [
            "--------------------------------------------------------------------------------\n",
            "Source: I didn't encounter Captain Nemo while going down the gangways.\n",
            "Target: En traversant les coursives, je ne rencontrai point le capitaine Nemo.\n",
            "Predicted: Je ne voulais pas le capitaine Nemo , qui par les coursives je revins .\n",
            "--------------------------------------------------------------------------------\n",
            "Source: At the same time, a great sound of applause was heard from without.\n",
            "Target: En même temps on entendait au dehors un grand bruit d’applaudissements.\n",
            "Predicted: En même temps , un grand bruit d ' applaudissements fit entendre d ' etre sans applaudissements .\n",
            "--------------------------------------------------------------------------------\n"
          ]
        },
        {
          "output_type": "stream",
          "name": "stderr",
          "text": [
            "Processing Epoch 62: 100%|██████████| 829/829 [02:19<00:00,  5.93it/s, loss=1.425,  lr=[4.377506743286033e-05]]\n"
          ]
        },
        {
          "output_type": "stream",
          "name": "stdout",
          "text": [
            "--------------------------------------------------------------------------------\n",
            "Source: I knew where to find in my drawers some linen, a locket, a ring.\n",
            "Target: je pris dans mes tiroirs un peu de linge, un bracelet et un anneau.\n",
            "Predicted: Je savais où me trouver dans ma commode , un linge une bague et à sonner .\n",
            "--------------------------------------------------------------------------------\n",
            "Source: Mrs. Bennet and her daughters apologised most civilly for Lydia's interruption, and promised that it should not occur again, if he would resume his book; but Mr. Collins, after assuring them that he bore his young cousin no ill-will, and should never resent her behaviour as any affront, seated himself at another table with Mr. Bennet, and prepared for backgammon.\n",
            "Target: Collins, tout en protestant qu’il ne gardait nullement rancune a Lydia, se tourna vers Mr. Bennet et lui proposa une partie de trictrac.\n",
            "Predicted: Mrs . Bennet et ses filles se trouvaient a une grande route de Lydia et de sa place , car il n ’ en eût pas dit .\n",
            "--------------------------------------------------------------------------------\n"
          ]
        },
        {
          "output_type": "stream",
          "name": "stderr",
          "text": [
            "Processing Epoch 63: 100%|██████████| 829/829 [02:20<00:00,  5.90it/s, loss=1.428,  lr=[4.252508837474242e-05]]\n"
          ]
        },
        {
          "output_type": "stream",
          "name": "stdout",
          "text": [
            "--------------------------------------------------------------------------------\n",
            "Source: \"Which?\"\n",
            "Target: -- Laquelle?\n",
            "Predicted: -- Lequel ?\n",
            "--------------------------------------------------------------------------------\n",
            "Source: Hans has taken advantage of the halt to refit his rudder.\n",
            "Target: Hans a profité de cette halte pour remettre le radeau en état.\n",
            "Predicted: Hans a commencé sa marche par la barre .\n",
            "--------------------------------------------------------------------------------\n"
          ]
        },
        {
          "output_type": "stream",
          "name": "stderr",
          "text": [
            "Processing Epoch 64: 100%|██████████| 829/829 [02:19<00:00,  5.93it/s, loss=1.423,  lr=[4.127661713213491e-05]]\n"
          ]
        },
        {
          "output_type": "stream",
          "name": "stdout",
          "text": [
            "--------------------------------------------------------------------------------\n",
            "Source: \"Well, that's enough,\" said the Honourable William Batulcar.\n",
            "Target: -- C'est que, voyez-vous, tout est là ! » répondit l'honorable Batulcar.\n",
            "Predicted: « Eh bien , c ’ est un sous la péristyle qui la case will be sous la péristyle .\n",
            "--------------------------------------------------------------------------------\n",
            "Source: We cannot steer; we shall be buffeted by the tempests, and we should be fools and madmen to attempt to cross a second time.\"\n",
            "Target: Nous ne pouvons gouverner, nous sommes le jouet des tempêtes, et c'est agir en fous que de tenter une seconde fois cette impossible traversée!»\n",
            "Predicted: Nous ne pouvons pas nous , nous serons par le second et nous serons attaqués en route .\n",
            "--------------------------------------------------------------------------------\n"
          ]
        },
        {
          "output_type": "stream",
          "name": "stderr",
          "text": [
            "Processing Epoch 65: 100%|██████████| 829/829 [02:20<00:00,  5.92it/s, loss=1.416,  lr=[4.002663807401699e-05]]\n"
          ]
        },
        {
          "output_type": "stream",
          "name": "stdout",
          "text": [
            "--------------------------------------------------------------------------------\n",
            "Source: \"Oh, my God, my God,\" cried Mme. Bonacieux, \"what is it?\"\n",
            "Target: «Oh! mon Dieu! mon Dieu! s'écria Mme Bonacieux, qu'y a-t-il donc?\n",
            "Predicted: -- Oh ! mon Dieu , mon Dieu , s ' écria Mme Bonacieux , qu ' est - ce que c ' est cela ?\n",
            "--------------------------------------------------------------------------------\n",
            "Source: He took the decanter of water from the hands of his wife and poured out a glassful.\n",
            "Target: Il enleva la carafe des mains de sa femme et remplit un verre d'eau.\n",
            "Predicted: Il prit la carafe de l ’ eau des mains de sa femme et lui versa un verre .\n",
            "--------------------------------------------------------------------------------\n"
          ]
        },
        {
          "output_type": "stream",
          "name": "stderr",
          "text": [
            "Processing Epoch 66: 100%|██████████| 829/829 [02:20<00:00,  5.90it/s, loss=1.424,  lr=[3.8776659015899085e-05]]\n"
          ]
        },
        {
          "output_type": "stream",
          "name": "stdout",
          "text": [
            "--------------------------------------------------------------------------------\n",
            "Source: By God it is!\"\n",
            "Target: Nom de Dieu de nom de Dieu!\n",
            "Predicted: Nom de Dieu !\n",
            "--------------------------------------------------------------------------------\n",
            "Source: \"Yes,\" remarked Gervaise, \"but the gypsies?\"\n",
            "Target: – Oui, observa Gervaise, mais les égyptiens ?\n",
            "Predicted: – Oui , dit Gervaise , mais les égyptiennes ?\n",
            "--------------------------------------------------------------------------------\n"
          ]
        },
        {
          "output_type": "stream",
          "name": "stderr",
          "text": [
            "Processing Epoch 67: 100%|██████████| 829/829 [02:20<00:00,  5.91it/s, loss=1.419,  lr=[3.752667995778117e-05]]\n"
          ]
        },
        {
          "output_type": "stream",
          "name": "stdout",
          "text": [
            "--------------------------------------------------------------------------------\n",
            "Source: \"Is this true, Barrymore?\"\n",
            "Target: « Est-ce vrai, Barrymore ?\n",
            "Predicted: « Est - il vrai , Barrymore ?\n",
            "--------------------------------------------------------------------------------\n",
            "Source: – Je le crois bien, dit Ludovic ; avec une chemise remplie de sang comme était la vôtre, je ne conçois pas seulement comment vous avez osé entrer en un tel lieu.\n",
            "Target: \"I can well believe it,\" said Lodovico; \"with a shirt covered in blood, as yours was, I can't conceive how you ever even dared to set foot in such a place.\n",
            "Predicted: \" I guess ,\" said Lodovico with a chemise , \" of ' s left so ,\" said Lodovico , \" would you ' re in your .\"\n",
            "--------------------------------------------------------------------------------\n"
          ]
        },
        {
          "output_type": "stream",
          "name": "stderr",
          "text": [
            "Processing Epoch 68: 100%|██████████| 829/829 [02:20<00:00,  5.92it/s, loss=1.413,  lr=[3.627670089966326e-05]]\n"
          ]
        },
        {
          "output_type": "stream",
          "name": "stdout",
          "text": [
            "--------------------------------------------------------------------------------\n",
            "Source: Il faut en général, pour que pareil accident arrive, etre doué d’un tempérament tres sanguin, Aussi ne craignis-je pas d’avancer que le criminel devait etre un homme tres fort avec une figure congestionnée.\n",
            "Target: It is seldom that any man, unless he is very full-blooded, breaks out in this way through emotion, so I hazarded the opinion that the criminal was probably a robust and ruddy-faced man.\n",
            "Predicted: He must have been , for bringing us together , chez lui , however , was very .\n",
            "--------------------------------------------------------------------------------\n",
            "Source: A robber doesn't quite like to leave traces of his flight behind him; and, besides, he is not obliged to have his passport countersigned.\"\n",
            "Target: Un voleur n'aime pas à laisser derrière lui des traces de son passage, et d'ailleurs la formalité des passeports n'est plus obligatoire.\n",
            "Predicted: Le voleur de dit - il , je ne voudrais pas jouer son passeport ; et , d ' ailleurs , il ne soit pas en règle .\n",
            "--------------------------------------------------------------------------------\n"
          ]
        },
        {
          "output_type": "stream",
          "name": "stderr",
          "text": [
            "Processing Epoch 69: 100%|██████████| 829/829 [02:20<00:00,  5.91it/s, loss=1.414,  lr=[3.502822965705573e-05]]\n"
          ]
        },
        {
          "output_type": "stream",
          "name": "stdout",
          "text": [
            "--------------------------------------------------------------------------------\n",
            "Source: As to leaving Pencroft and Herbert here alone, we could not do it! Well, I will go alone to Granite House.\"\n",
            "Target: Quant à laisser seuls ici Pencroff et Harbert, nous ne le pouvons pas!... eh bien, j'irai seul à Granite-House.\n",
            "Predicted: Quant à quitter Pencroff et Harbert seul , nous ne pouvons pas faire ! Eh bien , je pars seul à Granite - House .\n",
            "--------------------------------------------------------------------------------\n",
            "Source: I trust, however, that my absence may prove to be but a temporary one.\n",
            "Target: «J'espère, toutefois, que mon absence ne sera peut-être que passagère.\n",
            "Predicted: J ' espère , cependant que mon absence veut ne prouver qu ' un retard .\n",
            "--------------------------------------------------------------------------------\n"
          ]
        },
        {
          "output_type": "stream",
          "name": "stderr",
          "text": [
            "Processing Epoch 70: 100%|██████████| 829/829 [02:20<00:00,  5.92it/s, loss=1.417,  lr=[3.377825059893783e-05]]\n"
          ]
        },
        {
          "output_type": "stream",
          "name": "stdout",
          "text": [
            "--------------------------------------------------------------------------------\n",
            "Source: \"You have introduced yourselves, I can see.\"\n",
            "Target: « … Vous vous êtes présentés tout seuls, à ce que je vois.\n",
            "Predicted: On vous l ' a introduit , j ' ai fait .\n",
            "--------------------------------------------------------------------------------\n",
            "Source: \"Any one with him?\"\n",
            "Target: -- Y a-t-il quelqu'un avec lui?\n",
            "Predicted: -- Un seul avec lui ?\n",
            "--------------------------------------------------------------------------------\n"
          ]
        },
        {
          "output_type": "stream",
          "name": "stderr",
          "text": [
            "Processing Epoch 71: 100%|██████████| 829/829 [02:20<00:00,  5.92it/s, loss=1.415,  lr=[3.252977935633031e-05]]\n"
          ]
        },
        {
          "output_type": "stream",
          "name": "stdout",
          "text": [
            "--------------------------------------------------------------------------------\n",
            "Source: – Aussitôt la mort du prince, ajouta-t-il, M. le comte a donné l’ordre, à toutes les postes, de ne pas fournir de chevaux aux sujets des Etats de Parme.\n",
            "Target: \"Immediately after the Prince's death,\" he went on, \"the Signor Conte gave the order to all the posts not to supply horses to subjects of the States of Parma.\n",
            "Predicted: \" At once the Prince ' s death , ,\" he added , \" M . the Conte in Parma would like that , \" ' s States .\"\n",
            "--------------------------------------------------------------------------------\n",
            "Source: We left that part of the country nearly fifteen years ago and shall certainly never go back to it.\n",
            "Target: Nous avons quitté le pays depuis bientôt quinze ans et nous n’y reviendrons certainement jamais.\n",
            "Predicted: Nous quittâmes cette partie de la campagne à quinze ans , et ne les y en a pas .\n",
            "--------------------------------------------------------------------------------\n"
          ]
        },
        {
          "output_type": "stream",
          "name": "stderr",
          "text": [
            "Processing Epoch 72: 100%|██████████| 829/829 [02:20<00:00,  5.92it/s, loss=1.417,  lr=[3.127980029821241e-05]]\n"
          ]
        },
        {
          "output_type": "stream",
          "name": "stdout",
          "text": [
            "--------------------------------------------------------------------------------\n",
            "Source: But he was content with a dozen of these fascinating marsupials, which make up the first order of aplacental mammals, as Conseil just had to tell us.\n",
            "Target: Mais il se contenta d'une douzaine de ces intéressants marsupiaux, qui forment le premier ordre des mammifères aplacentaires - nous dit Conseil.\n",
            "Predicted: Mais il se contentait de ces , qui nous la première ordre de , pour nous dire de donna la suite .\n",
            "--------------------------------------------------------------------------------\n",
            "Source: \"For everything?\"\n",
            "Target: -- À tout?\n",
            "Predicted: -- Tout ?\n",
            "--------------------------------------------------------------------------------\n"
          ]
        },
        {
          "output_type": "stream",
          "name": "stderr",
          "text": [
            "Processing Epoch 73: 100%|██████████| 829/829 [02:20<00:00,  5.89it/s, loss=1.418,  lr=[3.002982124009449e-05]]\n"
          ]
        },
        {
          "output_type": "stream",
          "name": "stdout",
          "text": [
            "--------------------------------------------------------------------------------\n",
            "Source: The door had remained open, so strong was the excitement produced by the arrival of Athos, whose wound, though kept as a secret, was known to all.\n",
            "Target: La porte était restée entrouverte, tant l'arrivée d'Athos, dont, malgré le secret gardé, la blessure était connue de tous, avait produit de sensation.\n",
            "Predicted: La porte était resté si forte , si fort , l ' arrivée d ' Athos , dont la blessure était resté , comme un secret .\n",
            "--------------------------------------------------------------------------------\n",
            "Source: A stranger to the countryside, my death would remain unknown for a fortnight, and who would think of me after a fortnight had passed?'\n",
            "Target: Inconnu dans le pays, ma mort serait cachée pendant quinze jours, et qui songerait à moi après quinze jours !\n",
            "Predicted: Un étranger avait repris le pays , ma mort serait Encore quinze jours , et qui ne pensait que pour moi , après une quinzaine s ' était passé .\n",
            "--------------------------------------------------------------------------------\n"
          ]
        },
        {
          "output_type": "stream",
          "name": "stderr",
          "text": [
            "Processing Epoch 74: 100%|██████████| 829/829 [02:20<00:00,  5.92it/s, loss=1.415,  lr=[2.8779842181976586e-05]]\n"
          ]
        },
        {
          "output_type": "stream",
          "name": "stdout",
          "text": [
            "--------------------------------------------------------------------------------\n",
            "Source: He wanted to go back at once to Bertaux, saying that he could not sleep in this house.\n",
            "Target: Il voulut s’en retourner tout de suite aux Bertaux, disant qu’il ne pourrait pas dormir dans cette maison-là.\n",
            "Predicted: Il voulut aux Bertaux tout de suite , en disant qu ’ il ne put coucher dans cette maison .\n",
            "--------------------------------------------------------------------------------\n",
            "Source: \"Monitor of the first class, fetch the globes!\"\n",
            "Target: «Monitrice de la première classe, apportez les sphères.»\n",
            "Predicted: -- de la première classe , sors le !\n",
            "--------------------------------------------------------------------------------\n"
          ]
        },
        {
          "output_type": "stream",
          "name": "stderr",
          "text": [
            "Processing Epoch 75: 100%|██████████| 829/829 [02:20<00:00,  5.91it/s, loss=1.454,  lr=[2.7529863123858668e-05]]\n"
          ]
        },
        {
          "output_type": "stream",
          "name": "stdout",
          "text": [
            "--------------------------------------------------------------------------------\n",
            "Source: I also--I love you.\n",
            "Target: Moi aussi, je vous aime.\n",
            "Predicted: Je vous aime aussi .\n",
            "--------------------------------------------------------------------------------\n",
            "Source: After he had done, he says to her, 'Now han't you picked my pocket?'\n",
            "Target: Après qu'il eut fini, il lui dit: --Voyons! ne m'as-tu point volé?\n",
            "Predicted: Après qu ' il avait fait , il la dit , à présent que tu ma poche ?\n",
            "--------------------------------------------------------------------------------\n"
          ]
        },
        {
          "output_type": "stream",
          "name": "stderr",
          "text": [
            "Processing Epoch 76:  11%|█▏        | 94/829 [00:16<02:08,  5.74it/s, loss=1.419,  lr=[2.738812846588149e-05]]\n"
          ]
        },
        {
          "output_type": "error",
          "ename": "KeyboardInterrupt",
          "evalue": "ignored",
          "traceback": [
            "\u001b[0;31m---------------------------------------------------------------------------\u001b[0m",
            "\u001b[0;31mKeyboardInterrupt\u001b[0m                         Traceback (most recent call last)",
            "\u001b[0;32m<ipython-input-19-ecd863393b83>\u001b[0m in \u001b[0;36m<cell line: 9>\u001b[0;34m()\u001b[0m\n\u001b[1;32m      7\u001b[0m \u001b[0;34m\u001b[0m\u001b[0m\n\u001b[1;32m      8\u001b[0m \u001b[0;31m# from train import train_model\u001b[0m\u001b[0;34m\u001b[0m\u001b[0;34m\u001b[0m\u001b[0m\n\u001b[0;32m----> 9\u001b[0;31m \u001b[0mtrain_model\u001b[0m\u001b[0;34m(\u001b[0m\u001b[0mcfg\u001b[0m\u001b[0;34m)\u001b[0m\u001b[0;34m\u001b[0m\u001b[0;34m\u001b[0m\u001b[0m\n\u001b[0m",
            "\u001b[0;32m<ipython-input-17-bbe326b95a11>\u001b[0m in \u001b[0;36mtrain_model\u001b[0;34m(config)\u001b[0m\n\u001b[1;32m    290\u001b[0m \u001b[0;34m\u001b[0m\u001b[0m\n\u001b[1;32m    291\u001b[0m             \u001b[0;31m# Backpropagate the loss\u001b[0m\u001b[0;34m\u001b[0m\u001b[0;34m\u001b[0m\u001b[0m\n\u001b[0;32m--> 292\u001b[0;31m             \u001b[0mscaler\u001b[0m\u001b[0;34m.\u001b[0m\u001b[0mscale\u001b[0m\u001b[0;34m(\u001b[0m\u001b[0mloss\u001b[0m\u001b[0;34m)\u001b[0m\u001b[0;34m.\u001b[0m\u001b[0mbackward\u001b[0m\u001b[0;34m(\u001b[0m\u001b[0;34m)\u001b[0m\u001b[0;34m\u001b[0m\u001b[0;34m\u001b[0m\u001b[0m\n\u001b[0m\u001b[1;32m    293\u001b[0m \u001b[0;34m\u001b[0m\u001b[0m\n\u001b[1;32m    294\u001b[0m             \u001b[0;31m# update the weights\u001b[0m\u001b[0;34m\u001b[0m\u001b[0;34m\u001b[0m\u001b[0m\n",
            "\u001b[0;32m/usr/local/lib/python3.10/dist-packages/torch/_tensor.py\u001b[0m in \u001b[0;36mbackward\u001b[0;34m(self, gradient, retain_graph, create_graph, inputs)\u001b[0m\n\u001b[1;32m    485\u001b[0m                 \u001b[0minputs\u001b[0m\u001b[0;34m=\u001b[0m\u001b[0minputs\u001b[0m\u001b[0;34m,\u001b[0m\u001b[0;34m\u001b[0m\u001b[0;34m\u001b[0m\u001b[0m\n\u001b[1;32m    486\u001b[0m             )\n\u001b[0;32m--> 487\u001b[0;31m         torch.autograd.backward(\n\u001b[0m\u001b[1;32m    488\u001b[0m             \u001b[0mself\u001b[0m\u001b[0;34m,\u001b[0m \u001b[0mgradient\u001b[0m\u001b[0;34m,\u001b[0m \u001b[0mretain_graph\u001b[0m\u001b[0;34m,\u001b[0m \u001b[0mcreate_graph\u001b[0m\u001b[0;34m,\u001b[0m \u001b[0minputs\u001b[0m\u001b[0;34m=\u001b[0m\u001b[0minputs\u001b[0m\u001b[0;34m\u001b[0m\u001b[0;34m\u001b[0m\u001b[0m\n\u001b[1;32m    489\u001b[0m         )\n",
            "\u001b[0;32m/usr/local/lib/python3.10/dist-packages/torch/autograd/__init__.py\u001b[0m in \u001b[0;36mbackward\u001b[0;34m(tensors, grad_tensors, retain_graph, create_graph, grad_variables, inputs)\u001b[0m\n\u001b[1;32m    198\u001b[0m     \u001b[0;31m# some Python versions print out the first line of a multi-line function\u001b[0m\u001b[0;34m\u001b[0m\u001b[0;34m\u001b[0m\u001b[0m\n\u001b[1;32m    199\u001b[0m     \u001b[0;31m# calls in the traceback and some print out the last line\u001b[0m\u001b[0;34m\u001b[0m\u001b[0;34m\u001b[0m\u001b[0m\n\u001b[0;32m--> 200\u001b[0;31m     Variable._execution_engine.run_backward(  # Calls into the C++ engine to run the backward pass\n\u001b[0m\u001b[1;32m    201\u001b[0m         \u001b[0mtensors\u001b[0m\u001b[0;34m,\u001b[0m \u001b[0mgrad_tensors_\u001b[0m\u001b[0;34m,\u001b[0m \u001b[0mretain_graph\u001b[0m\u001b[0;34m,\u001b[0m \u001b[0mcreate_graph\u001b[0m\u001b[0;34m,\u001b[0m \u001b[0minputs\u001b[0m\u001b[0;34m,\u001b[0m\u001b[0;34m\u001b[0m\u001b[0;34m\u001b[0m\u001b[0m\n\u001b[1;32m    202\u001b[0m         allow_unreachable=True, accumulate_grad=True)  # Calls into the C++ engine to run the backward pass\n",
            "\u001b[0;31mKeyboardInterrupt\u001b[0m: "
          ]
        }
      ]
    },
    {
      "cell_type": "code",
      "source": [
        "\n"
      ],
      "metadata": {
        "id": "x9lF_WjNL_Sz"
      },
      "execution_count": 5,
      "outputs": []
    }
  ]
}